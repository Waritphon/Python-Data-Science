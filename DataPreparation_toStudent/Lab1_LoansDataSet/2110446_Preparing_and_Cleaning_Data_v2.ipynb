{
  "nbformat": 4,
  "nbformat_minor": 0,
  "metadata": {
    "anaconda-cloud": {},
    "kernelspec": {
      "display_name": "Python 3",
      "language": "python",
      "name": "python3"
    },
    "language_info": {
      "codemirror_mode": {
        "name": "ipython",
        "version": 3
      },
      "file_extension": ".py",
      "mimetype": "text/x-python",
      "name": "python",
      "nbconvert_exporter": "python",
      "pygments_lexer": "ipython3",
      "version": "3.6.8"
    },
    "colab": {
      "name": "2110446_Preparing_and_Cleaning_Data.ipynb",
      "provenance": [],
      "collapsed_sections": []
    }
  },
  "cells": [
    {
      "cell_type": "markdown",
      "metadata": {
        "id": "myGdUAyg3so2",
        "colab_type": "text"
      },
      "source": [
        "# 2110446 Data Science and Data Engineering\n",
        "# Preparing and Cleaning Data for Machine Learning"
      ]
    },
    {
      "cell_type": "markdown",
      "metadata": {
        "id": "yTakpG_E3so5",
        "colab_type": "text"
      },
      "source": [
        "First, lets import some of the libraries that we'll be using, and set some parameters to make the output easier to read."
      ]
    },
    {
      "cell_type": "markdown",
      "metadata": {
        "id": "faUp_jyV3so6",
        "colab_type": "text"
      },
      "source": [
        "# 1. Examining the Data Set\n",
        "Lending Club periodically releases data for all the approved and declined loan applications on their website. So you're working with the same data we are, we've mirrored the data on data.world. You can select different year ranges to download the dataset (in CSV format) for both approved and declined loans.\n",
        "\n",
        "You'll also find a data dictionary (in XLS format), towards the bottom of the page, which contains information on the different column names. The data dictionary is useful to help understand what a column represents in the dataset.\n",
        "\n",
        "The data dictionary contains two sheets:\n",
        "\n",
        "LoanStats sheet: describes the approved loans dataset\n",
        "RejectStats sheet: describes the rejected loans dataset\n",
        "We'll be using the LoanStats sheet since we're interested in the approved loans dataset.\n",
        "\n",
        "The approved loans dataset contains information on current loans, completed loans, and defaulted loans. For this challenge, we'll be working with approved loans data for the years 2007 to 2011.\n",
        "\n",
        "First, lets import some of the libraries that we'll be using, and set some parameters to make the output easier to read."
      ]
    },
    {
      "cell_type": "code",
      "metadata": {
        "id": "GxMizIzE3so7",
        "colab_type": "code",
        "colab": {}
      },
      "source": [
        "import pandas as pd\n",
        "import numpy as np\n",
        "#pd.set_option('max_columns', 120)\n",
        "#pd.set_option('max_colwidth', 5000)\n",
        "\n",
        "import matplotlib.pyplot as plt\n",
        "import seaborn as sns\n",
        "%matplotlib inline\n",
        "plt.rcParams['figure.figsize'] = (12,8)"
      ],
      "execution_count": 0,
      "outputs": []
    },
    {
      "cell_type": "markdown",
      "metadata": {
        "id": "NgyI3C7B3so_",
        "colab_type": "text"
      },
      "source": [
        "# Loading The Data Into Pandas\n",
        "\n",
        "We've downloaded our dataset and named it lending_club_loans.csv, but now we need to load it into a pandas DataFrame to explore it.\n",
        "\n",
        "To ensure that code run fast for us, we need to reduce the size of lending_club_loans.csv by doing the following:\n",
        "\n",
        "Remove the first line: It contains extraneous text instead of the column titles. This text prevents the dataset from being parsed properly by the pandas library.\n",
        "Remove the 'desc' column: it contains a long text explanation for the loan.\n",
        "Remove the 'url' column: it contains a link to each on Lending Club which can only be accessed with an investor account.\n",
        "Removing all columns with more than 50% missing values: This allows us to move faster since don't need to spend time trying to fill these values.\n",
        "We'll also name the filtered dataset loans_2007 and later at the end of this section save it as loans_2007.csv to keep it separate from the raw data. This is good practice and makes sure we have our original data in case we need to go back and retrieve any of the original data we're removing.\n",
        "\n",
        "Now, let's go ahead and perform these steps:"
      ]
    },
    {
      "cell_type": "code",
      "metadata": {
        "id": "TFW46PXZ3spA",
        "colab_type": "code",
        "colab": {
          "base_uri": "https://localhost:8080/",
          "height": 85
        },
        "outputId": "04960101-e5d2-47c8-cc67-c8a33b0f2bcd"
      },
      "source": [
        "# skip row 1 so pandas can parse the data properly.\n",
        "loans_2007 = pd.read_csv('lending_club_loans.csv', low_memory=False) \n",
        "print (loans_2007.shape)\n",
        "half_count = len(loans_2007) / 2\n",
        "print(half_count)\n",
        "\n",
        "loans_2007 = loans_2007.dropna(thresh=half_count,axis=1) # Drop any column with more than 50% missing values\n",
        "print (loans_2007.shape)\n",
        "\n",
        "loans_2007 = loans_2007.drop(['url','desc'],axis=1)      # These columns are not useful for our purposes\n",
        "print (loans_2007.shape)"
      ],
      "execution_count": 2,
      "outputs": [
        {
          "output_type": "stream",
          "text": [
            "(42306, 115)\n",
            "21153.0\n",
            "(42306, 58)\n",
            "(42306, 56)\n"
          ],
          "name": "stdout"
        }
      ]
    },
    {
      "cell_type": "markdown",
      "metadata": {
        "id": "yu6njEE83spF",
        "colab_type": "text"
      },
      "source": [
        "# Let's use the pandas head() method \n",
        "to display first three rows of the loans_2007 DataFrame, just to make sure we were able to load the dataset properly:"
      ]
    },
    {
      "cell_type": "code",
      "metadata": {
        "scrolled": true,
        "id": "xCGFxOdC3spG",
        "colab_type": "code",
        "colab": {
          "base_uri": "https://localhost:8080/",
          "height": 230
        },
        "outputId": "68898547-7e8a-49f7-fac7-f2df5613fe1d"
      },
      "source": [
        "loans_2007.head(3)"
      ],
      "execution_count": 3,
      "outputs": [
        {
          "output_type": "execute_result",
          "data": {
            "text/html": [
              "<div>\n",
              "<style scoped>\n",
              "    .dataframe tbody tr th:only-of-type {\n",
              "        vertical-align: middle;\n",
              "    }\n",
              "\n",
              "    .dataframe tbody tr th {\n",
              "        vertical-align: top;\n",
              "    }\n",
              "\n",
              "    .dataframe thead th {\n",
              "        text-align: right;\n",
              "    }\n",
              "</style>\n",
              "<table border=\"1\" class=\"dataframe\">\n",
              "  <thead>\n",
              "    <tr style=\"text-align: right;\">\n",
              "      <th></th>\n",
              "      <th>id</th>\n",
              "      <th>member_id</th>\n",
              "      <th>loan_amnt</th>\n",
              "      <th>funded_amnt</th>\n",
              "      <th>funded_amnt_inv</th>\n",
              "      <th>term</th>\n",
              "      <th>int_rate</th>\n",
              "      <th>installment</th>\n",
              "      <th>grade</th>\n",
              "      <th>sub_grade</th>\n",
              "      <th>emp_title</th>\n",
              "      <th>emp_length</th>\n",
              "      <th>home_ownership</th>\n",
              "      <th>annual_inc</th>\n",
              "      <th>verification_status</th>\n",
              "      <th>issue_d</th>\n",
              "      <th>loan_status</th>\n",
              "      <th>pymnt_plan</th>\n",
              "      <th>purpose</th>\n",
              "      <th>title</th>\n",
              "      <th>zip_code</th>\n",
              "      <th>addr_state</th>\n",
              "      <th>dti</th>\n",
              "      <th>delinq_2yrs</th>\n",
              "      <th>earliest_cr_line</th>\n",
              "      <th>fico_range_low</th>\n",
              "      <th>fico_range_high</th>\n",
              "      <th>inq_last_6mths</th>\n",
              "      <th>open_acc</th>\n",
              "      <th>pub_rec</th>\n",
              "      <th>revol_bal</th>\n",
              "      <th>revol_util</th>\n",
              "      <th>total_acc</th>\n",
              "      <th>initial_list_status</th>\n",
              "      <th>out_prncp</th>\n",
              "      <th>out_prncp_inv</th>\n",
              "      <th>total_pymnt</th>\n",
              "      <th>total_pymnt_inv</th>\n",
              "      <th>total_rec_prncp</th>\n",
              "      <th>total_rec_int</th>\n",
              "      <th>total_rec_late_fee</th>\n",
              "      <th>recoveries</th>\n",
              "      <th>collection_recovery_fee</th>\n",
              "      <th>last_pymnt_d</th>\n",
              "      <th>last_pymnt_amnt</th>\n",
              "      <th>last_credit_pull_d</th>\n",
              "      <th>last_fico_range_high</th>\n",
              "      <th>last_fico_range_low</th>\n",
              "      <th>collections_12_mths_ex_med</th>\n",
              "      <th>policy_code</th>\n",
              "      <th>application_type</th>\n",
              "      <th>acc_now_delinq</th>\n",
              "      <th>chargeoff_within_12_mths</th>\n",
              "      <th>delinq_amnt</th>\n",
              "      <th>pub_rec_bankruptcies</th>\n",
              "      <th>tax_liens</th>\n",
              "    </tr>\n",
              "  </thead>\n",
              "  <tbody>\n",
              "    <tr>\n",
              "      <th>0</th>\n",
              "      <td>1077501</td>\n",
              "      <td>1296599.0</td>\n",
              "      <td>5000.0</td>\n",
              "      <td>5000.0</td>\n",
              "      <td>4975.0</td>\n",
              "      <td>36 months</td>\n",
              "      <td>0.1065</td>\n",
              "      <td>162.87</td>\n",
              "      <td>B</td>\n",
              "      <td>B2</td>\n",
              "      <td>NaN</td>\n",
              "      <td>10+ years</td>\n",
              "      <td>RENT</td>\n",
              "      <td>24000.0</td>\n",
              "      <td>Verified</td>\n",
              "      <td>Dec-2011</td>\n",
              "      <td>Fully Paid</td>\n",
              "      <td>False</td>\n",
              "      <td>credit_card</td>\n",
              "      <td>Computer</td>\n",
              "      <td>860xx</td>\n",
              "      <td>AZ</td>\n",
              "      <td>27.65</td>\n",
              "      <td>0.0</td>\n",
              "      <td>Jan-1985</td>\n",
              "      <td>735.0</td>\n",
              "      <td>739.0</td>\n",
              "      <td>1.0</td>\n",
              "      <td>3.0</td>\n",
              "      <td>0.0</td>\n",
              "      <td>13648.0</td>\n",
              "      <td>0.837</td>\n",
              "      <td>9.0</td>\n",
              "      <td>False</td>\n",
              "      <td>0.0</td>\n",
              "      <td>0.0</td>\n",
              "      <td>5863.155187</td>\n",
              "      <td>5833.84</td>\n",
              "      <td>5000.00</td>\n",
              "      <td>863.16</td>\n",
              "      <td>0.0</td>\n",
              "      <td>0.00</td>\n",
              "      <td>0.00</td>\n",
              "      <td>Jan-2015</td>\n",
              "      <td>171.62</td>\n",
              "      <td>Sep-2016</td>\n",
              "      <td>744.0</td>\n",
              "      <td>740.0</td>\n",
              "      <td>False</td>\n",
              "      <td>True</td>\n",
              "      <td>INDIVIDUAL</td>\n",
              "      <td>False</td>\n",
              "      <td>False</td>\n",
              "      <td>0.0</td>\n",
              "      <td>0.0</td>\n",
              "      <td>False</td>\n",
              "    </tr>\n",
              "    <tr>\n",
              "      <th>1</th>\n",
              "      <td>1077430</td>\n",
              "      <td>1314167.0</td>\n",
              "      <td>2500.0</td>\n",
              "      <td>2500.0</td>\n",
              "      <td>2500.0</td>\n",
              "      <td>60 months</td>\n",
              "      <td>0.1527</td>\n",
              "      <td>59.83</td>\n",
              "      <td>C</td>\n",
              "      <td>C4</td>\n",
              "      <td>Ryder</td>\n",
              "      <td>&lt; 1 year</td>\n",
              "      <td>RENT</td>\n",
              "      <td>30000.0</td>\n",
              "      <td>Source Verified</td>\n",
              "      <td>Dec-2011</td>\n",
              "      <td>Charged Off</td>\n",
              "      <td>False</td>\n",
              "      <td>car</td>\n",
              "      <td>bike</td>\n",
              "      <td>309xx</td>\n",
              "      <td>GA</td>\n",
              "      <td>1.00</td>\n",
              "      <td>0.0</td>\n",
              "      <td>Apr-1999</td>\n",
              "      <td>740.0</td>\n",
              "      <td>744.0</td>\n",
              "      <td>5.0</td>\n",
              "      <td>3.0</td>\n",
              "      <td>0.0</td>\n",
              "      <td>1687.0</td>\n",
              "      <td>0.094</td>\n",
              "      <td>4.0</td>\n",
              "      <td>False</td>\n",
              "      <td>0.0</td>\n",
              "      <td>0.0</td>\n",
              "      <td>1008.710000</td>\n",
              "      <td>1008.71</td>\n",
              "      <td>456.46</td>\n",
              "      <td>435.17</td>\n",
              "      <td>0.0</td>\n",
              "      <td>117.08</td>\n",
              "      <td>1.11</td>\n",
              "      <td>Apr-2013</td>\n",
              "      <td>119.66</td>\n",
              "      <td>Sep-2016</td>\n",
              "      <td>499.0</td>\n",
              "      <td>0.0</td>\n",
              "      <td>False</td>\n",
              "      <td>True</td>\n",
              "      <td>INDIVIDUAL</td>\n",
              "      <td>False</td>\n",
              "      <td>False</td>\n",
              "      <td>0.0</td>\n",
              "      <td>0.0</td>\n",
              "      <td>False</td>\n",
              "    </tr>\n",
              "    <tr>\n",
              "      <th>2</th>\n",
              "      <td>1077175</td>\n",
              "      <td>1313524.0</td>\n",
              "      <td>2400.0</td>\n",
              "      <td>2400.0</td>\n",
              "      <td>2400.0</td>\n",
              "      <td>36 months</td>\n",
              "      <td>0.1596</td>\n",
              "      <td>84.33</td>\n",
              "      <td>C</td>\n",
              "      <td>C5</td>\n",
              "      <td>NaN</td>\n",
              "      <td>10+ years</td>\n",
              "      <td>RENT</td>\n",
              "      <td>12252.0</td>\n",
              "      <td>Not Verified</td>\n",
              "      <td>Dec-2011</td>\n",
              "      <td>Fully Paid</td>\n",
              "      <td>False</td>\n",
              "      <td>small_business</td>\n",
              "      <td>real estate business</td>\n",
              "      <td>606xx</td>\n",
              "      <td>IL</td>\n",
              "      <td>8.72</td>\n",
              "      <td>0.0</td>\n",
              "      <td>Nov-2001</td>\n",
              "      <td>735.0</td>\n",
              "      <td>739.0</td>\n",
              "      <td>2.0</td>\n",
              "      <td>2.0</td>\n",
              "      <td>0.0</td>\n",
              "      <td>2956.0</td>\n",
              "      <td>0.985</td>\n",
              "      <td>10.0</td>\n",
              "      <td>False</td>\n",
              "      <td>0.0</td>\n",
              "      <td>0.0</td>\n",
              "      <td>3005.666844</td>\n",
              "      <td>3005.67</td>\n",
              "      <td>2400.00</td>\n",
              "      <td>605.67</td>\n",
              "      <td>0.0</td>\n",
              "      <td>0.00</td>\n",
              "      <td>0.00</td>\n",
              "      <td>Jun-2014</td>\n",
              "      <td>649.91</td>\n",
              "      <td>Sep-2016</td>\n",
              "      <td>719.0</td>\n",
              "      <td>715.0</td>\n",
              "      <td>False</td>\n",
              "      <td>True</td>\n",
              "      <td>INDIVIDUAL</td>\n",
              "      <td>False</td>\n",
              "      <td>False</td>\n",
              "      <td>0.0</td>\n",
              "      <td>0.0</td>\n",
              "      <td>False</td>\n",
              "    </tr>\n",
              "  </tbody>\n",
              "</table>\n",
              "</div>"
            ],
            "text/plain": [
              "        id  member_id  loan_amnt  ...  delinq_amnt  pub_rec_bankruptcies tax_liens\n",
              "0  1077501  1296599.0     5000.0  ...          0.0                   0.0     False\n",
              "1  1077430  1314167.0     2500.0  ...          0.0                   0.0     False\n",
              "2  1077175  1313524.0     2400.0  ...          0.0                   0.0     False\n",
              "\n",
              "[3 rows x 56 columns]"
            ]
          },
          "metadata": {
            "tags": []
          },
          "execution_count": 3
        }
      ]
    },
    {
      "cell_type": "code",
      "metadata": {
        "id": "cGC4Vc_-3spJ",
        "colab_type": "code",
        "colab": {
          "base_uri": "https://localhost:8080/",
          "height": 317
        },
        "outputId": "a85e788f-95d2-4578-fc88-c88ed430f439"
      },
      "source": [
        "loans_2007.describe()"
      ],
      "execution_count": 4,
      "outputs": [
        {
          "output_type": "execute_result",
          "data": {
            "text/html": [
              "<div>\n",
              "<style scoped>\n",
              "    .dataframe tbody tr th:only-of-type {\n",
              "        vertical-align: middle;\n",
              "    }\n",
              "\n",
              "    .dataframe tbody tr th {\n",
              "        vertical-align: top;\n",
              "    }\n",
              "\n",
              "    .dataframe thead th {\n",
              "        text-align: right;\n",
              "    }\n",
              "</style>\n",
              "<table border=\"1\" class=\"dataframe\">\n",
              "  <thead>\n",
              "    <tr style=\"text-align: right;\">\n",
              "      <th></th>\n",
              "      <th>member_id</th>\n",
              "      <th>loan_amnt</th>\n",
              "      <th>funded_amnt</th>\n",
              "      <th>funded_amnt_inv</th>\n",
              "      <th>int_rate</th>\n",
              "      <th>installment</th>\n",
              "      <th>annual_inc</th>\n",
              "      <th>dti</th>\n",
              "      <th>delinq_2yrs</th>\n",
              "      <th>fico_range_low</th>\n",
              "      <th>fico_range_high</th>\n",
              "      <th>inq_last_6mths</th>\n",
              "      <th>open_acc</th>\n",
              "      <th>pub_rec</th>\n",
              "      <th>revol_bal</th>\n",
              "      <th>revol_util</th>\n",
              "      <th>total_acc</th>\n",
              "      <th>out_prncp</th>\n",
              "      <th>out_prncp_inv</th>\n",
              "      <th>total_pymnt</th>\n",
              "      <th>total_pymnt_inv</th>\n",
              "      <th>total_rec_prncp</th>\n",
              "      <th>total_rec_int</th>\n",
              "      <th>total_rec_late_fee</th>\n",
              "      <th>recoveries</th>\n",
              "      <th>collection_recovery_fee</th>\n",
              "      <th>last_pymnt_amnt</th>\n",
              "      <th>last_fico_range_high</th>\n",
              "      <th>last_fico_range_low</th>\n",
              "      <th>delinq_amnt</th>\n",
              "      <th>pub_rec_bankruptcies</th>\n",
              "    </tr>\n",
              "  </thead>\n",
              "  <tbody>\n",
              "    <tr>\n",
              "      <th>count</th>\n",
              "      <td>4.230500e+04</td>\n",
              "      <td>42305.000000</td>\n",
              "      <td>42305.000000</td>\n",
              "      <td>42305.000000</td>\n",
              "      <td>42305.000000</td>\n",
              "      <td>42305.000000</td>\n",
              "      <td>4.230500e+04</td>\n",
              "      <td>42305.000000</td>\n",
              "      <td>42305.000000</td>\n",
              "      <td>42305.000000</td>\n",
              "      <td>42305.000000</td>\n",
              "      <td>42305.000000</td>\n",
              "      <td>42305.000000</td>\n",
              "      <td>42305.000000</td>\n",
              "      <td>4.230500e+04</td>\n",
              "      <td>42247.000000</td>\n",
              "      <td>42305.000000</td>\n",
              "      <td>42305.000000</td>\n",
              "      <td>42305.000000</td>\n",
              "      <td>42305.000000</td>\n",
              "      <td>42305.000000</td>\n",
              "      <td>42305.000000</td>\n",
              "      <td>42305.000000</td>\n",
              "      <td>42305.000000</td>\n",
              "      <td>42305.000000</td>\n",
              "      <td>42305.000000</td>\n",
              "      <td>42305.000000</td>\n",
              "      <td>42304.000000</td>\n",
              "      <td>42304.000000</td>\n",
              "      <td>42304.0</td>\n",
              "      <td>41162.000000</td>\n",
              "    </tr>\n",
              "    <tr>\n",
              "      <th>mean</th>\n",
              "      <td>8.295374e+05</td>\n",
              "      <td>11112.259780</td>\n",
              "      <td>10844.448056</td>\n",
              "      <td>10187.020833</td>\n",
              "      <td>0.121615</td>\n",
              "      <td>323.155154</td>\n",
              "      <td>6.920810e+04</td>\n",
              "      <td>13.390844</td>\n",
              "      <td>0.151164</td>\n",
              "      <td>713.266635</td>\n",
              "      <td>717.266635</td>\n",
              "      <td>1.068763</td>\n",
              "      <td>9.350881</td>\n",
              "      <td>0.058031</td>\n",
              "      <td>1.431568e+04</td>\n",
              "      <td>0.490975</td>\n",
              "      <td>22.156908</td>\n",
              "      <td>11.913984</td>\n",
              "      <td>11.880130</td>\n",
              "      <td>12036.735282</td>\n",
              "      <td>11352.159983</td>\n",
              "      <td>9689.436157</td>\n",
              "      <td>2245.625262</td>\n",
              "      <td>1.489558</td>\n",
              "      <td>100.184397</td>\n",
              "      <td>13.865840</td>\n",
              "      <td>2621.952462</td>\n",
              "      <td>689.623913</td>\n",
              "      <td>676.933269</td>\n",
              "      <td>0.0</td>\n",
              "      <td>0.045090</td>\n",
              "    </tr>\n",
              "    <tr>\n",
              "      <th>std</th>\n",
              "      <td>2.754000e+05</td>\n",
              "      <td>7414.933741</td>\n",
              "      <td>7151.244015</td>\n",
              "      <td>7121.512214</td>\n",
              "      <td>0.037120</td>\n",
              "      <td>209.022614</td>\n",
              "      <td>6.408233e+04</td>\n",
              "      <td>6.719209</td>\n",
              "      <td>0.505742</td>\n",
              "      <td>36.066146</td>\n",
              "      <td>36.066146</td>\n",
              "      <td>1.493121</td>\n",
              "      <td>4.487290</td>\n",
              "      <td>0.245541</td>\n",
              "      <td>2.198139e+04</td>\n",
              "      <td>0.283517</td>\n",
              "      <td>11.571491</td>\n",
              "      <td>125.713875</td>\n",
              "      <td>125.398326</td>\n",
              "      <td>9074.298598</td>\n",
              "      <td>9004.664091</td>\n",
              "      <td>7091.725574</td>\n",
              "      <td>2588.332722</td>\n",
              "      <td>7.720637</td>\n",
              "      <td>718.211198</td>\n",
              "      <td>159.097257</td>\n",
              "      <td>4391.928952</td>\n",
              "      <td>79.914737</td>\n",
              "      <td>118.001056</td>\n",
              "      <td>0.0</td>\n",
              "      <td>0.208439</td>\n",
              "    </tr>\n",
              "    <tr>\n",
              "      <th>min</th>\n",
              "      <td>7.069900e+04</td>\n",
              "      <td>500.000000</td>\n",
              "      <td>500.000000</td>\n",
              "      <td>0.000000</td>\n",
              "      <td>0.054200</td>\n",
              "      <td>15.670000</td>\n",
              "      <td>3.300000e+03</td>\n",
              "      <td>0.000000</td>\n",
              "      <td>0.000000</td>\n",
              "      <td>610.000000</td>\n",
              "      <td>614.000000</td>\n",
              "      <td>0.000000</td>\n",
              "      <td>1.000000</td>\n",
              "      <td>0.000000</td>\n",
              "      <td>0.000000e+00</td>\n",
              "      <td>0.000000</td>\n",
              "      <td>1.000000</td>\n",
              "      <td>0.000000</td>\n",
              "      <td>0.000000</td>\n",
              "      <td>0.000000</td>\n",
              "      <td>0.000000</td>\n",
              "      <td>0.000000</td>\n",
              "      <td>0.000000</td>\n",
              "      <td>0.000000</td>\n",
              "      <td>0.000000</td>\n",
              "      <td>0.000000</td>\n",
              "      <td>0.000000</td>\n",
              "      <td>0.000000</td>\n",
              "      <td>0.000000</td>\n",
              "      <td>0.0</td>\n",
              "      <td>0.000000</td>\n",
              "    </tr>\n",
              "    <tr>\n",
              "      <th>25%</th>\n",
              "      <td>6.416780e+05</td>\n",
              "      <td>5200.000000</td>\n",
              "      <td>5100.000000</td>\n",
              "      <td>4975.000000</td>\n",
              "      <td>0.096200</td>\n",
              "      <td>165.740000</td>\n",
              "      <td>4.000000e+04</td>\n",
              "      <td>8.220000</td>\n",
              "      <td>0.000000</td>\n",
              "      <td>685.000000</td>\n",
              "      <td>689.000000</td>\n",
              "      <td>0.000000</td>\n",
              "      <td>6.000000</td>\n",
              "      <td>0.000000</td>\n",
              "      <td>3.667000e+03</td>\n",
              "      <td>0.257000</td>\n",
              "      <td>13.000000</td>\n",
              "      <td>0.000000</td>\n",
              "      <td>0.000000</td>\n",
              "      <td>5482.951050</td>\n",
              "      <td>4862.630000</td>\n",
              "      <td>4473.130000</td>\n",
              "      <td>658.900000</td>\n",
              "      <td>0.000000</td>\n",
              "      <td>0.000000</td>\n",
              "      <td>0.000000</td>\n",
              "      <td>212.990000</td>\n",
              "      <td>644.000000</td>\n",
              "      <td>640.000000</td>\n",
              "      <td>0.0</td>\n",
              "      <td>0.000000</td>\n",
              "    </tr>\n",
              "    <tr>\n",
              "      <th>50%</th>\n",
              "      <td>8.261390e+05</td>\n",
              "      <td>9800.000000</td>\n",
              "      <td>9600.000000</td>\n",
              "      <td>8522.290608</td>\n",
              "      <td>0.119900</td>\n",
              "      <td>278.230000</td>\n",
              "      <td>5.900000e+04</td>\n",
              "      <td>13.490000</td>\n",
              "      <td>0.000000</td>\n",
              "      <td>710.000000</td>\n",
              "      <td>714.000000</td>\n",
              "      <td>1.000000</td>\n",
              "      <td>9.000000</td>\n",
              "      <td>0.000000</td>\n",
              "      <td>8.856000e+03</td>\n",
              "      <td>0.496000</td>\n",
              "      <td>20.000000</td>\n",
              "      <td>0.000000</td>\n",
              "      <td>0.000000</td>\n",
              "      <td>9714.969764</td>\n",
              "      <td>9010.930000</td>\n",
              "      <td>8000.000000</td>\n",
              "      <td>1343.710000</td>\n",
              "      <td>0.000000</td>\n",
              "      <td>0.000000</td>\n",
              "      <td>0.000000</td>\n",
              "      <td>530.950000</td>\n",
              "      <td>699.000000</td>\n",
              "      <td>695.000000</td>\n",
              "      <td>0.0</td>\n",
              "      <td>0.000000</td>\n",
              "    </tr>\n",
              "    <tr>\n",
              "      <th>75%</th>\n",
              "      <td>1.034990e+06</td>\n",
              "      <td>15000.000000</td>\n",
              "      <td>15000.000000</td>\n",
              "      <td>14050.000000</td>\n",
              "      <td>0.147200</td>\n",
              "      <td>429.180000</td>\n",
              "      <td>8.252400e+04</td>\n",
              "      <td>18.690000</td>\n",
              "      <td>0.000000</td>\n",
              "      <td>740.000000</td>\n",
              "      <td>744.000000</td>\n",
              "      <td>2.000000</td>\n",
              "      <td>12.000000</td>\n",
              "      <td>0.000000</td>\n",
              "      <td>1.727600e+04</td>\n",
              "      <td>0.726500</td>\n",
              "      <td>29.000000</td>\n",
              "      <td>0.000000</td>\n",
              "      <td>0.000000</td>\n",
              "      <td>16439.221988</td>\n",
              "      <td>15577.160000</td>\n",
              "      <td>13500.000000</td>\n",
              "      <td>2811.500000</td>\n",
              "      <td>0.000000</td>\n",
              "      <td>0.000000</td>\n",
              "      <td>0.000000</td>\n",
              "      <td>3189.020000</td>\n",
              "      <td>744.000000</td>\n",
              "      <td>740.000000</td>\n",
              "      <td>0.0</td>\n",
              "      <td>0.000000</td>\n",
              "    </tr>\n",
              "    <tr>\n",
              "      <th>max</th>\n",
              "      <td>1.314167e+06</td>\n",
              "      <td>35000.000000</td>\n",
              "      <td>35000.000000</td>\n",
              "      <td>35000.000000</td>\n",
              "      <td>0.245900</td>\n",
              "      <td>1305.190000</td>\n",
              "      <td>6.000000e+06</td>\n",
              "      <td>29.990000</td>\n",
              "      <td>11.000000</td>\n",
              "      <td>825.000000</td>\n",
              "      <td>829.000000</td>\n",
              "      <td>33.000000</td>\n",
              "      <td>47.000000</td>\n",
              "      <td>5.000000</td>\n",
              "      <td>1.207359e+06</td>\n",
              "      <td>1.190000</td>\n",
              "      <td>90.000000</td>\n",
              "      <td>3555.850000</td>\n",
              "      <td>3553.300000</td>\n",
              "      <td>58563.679929</td>\n",
              "      <td>58563.680000</td>\n",
              "      <td>35000.020000</td>\n",
              "      <td>23823.750000</td>\n",
              "      <td>209.000000</td>\n",
              "      <td>29623.350000</td>\n",
              "      <td>7002.190000</td>\n",
              "      <td>36115.200000</td>\n",
              "      <td>850.000000</td>\n",
              "      <td>845.000000</td>\n",
              "      <td>0.0</td>\n",
              "      <td>2.000000</td>\n",
              "    </tr>\n",
              "  </tbody>\n",
              "</table>\n",
              "</div>"
            ],
            "text/plain": [
              "          member_id     loan_amnt  ...  delinq_amnt  pub_rec_bankruptcies\n",
              "count  4.230500e+04  42305.000000  ...      42304.0          41162.000000\n",
              "mean   8.295374e+05  11112.259780  ...          0.0              0.045090\n",
              "std    2.754000e+05   7414.933741  ...          0.0              0.208439\n",
              "min    7.069900e+04    500.000000  ...          0.0              0.000000\n",
              "25%    6.416780e+05   5200.000000  ...          0.0              0.000000\n",
              "50%    8.261390e+05   9800.000000  ...          0.0              0.000000\n",
              "75%    1.034990e+06  15000.000000  ...          0.0              0.000000\n",
              "max    1.314167e+06  35000.000000  ...          0.0              2.000000\n",
              "\n",
              "[8 rows x 31 columns]"
            ]
          },
          "metadata": {
            "tags": []
          },
          "execution_count": 4
        }
      ]
    },
    {
      "cell_type": "markdown",
      "metadata": {
        "id": "xzJ4K3lI3spN",
        "colab_type": "text"
      },
      "source": [
        "# Let's also use pandas .shape attribute \n",
        "to view the number of samples and features we're dealing with at this stage:"
      ]
    },
    {
      "cell_type": "code",
      "metadata": {
        "id": "zFUBVa8X3spO",
        "colab_type": "code",
        "colab": {
          "base_uri": "https://localhost:8080/",
          "height": 34
        },
        "outputId": "bf74751d-6807-4da8-8450-e319564996df"
      },
      "source": [
        "loans_2007.shape"
      ],
      "execution_count": 5,
      "outputs": [
        {
          "output_type": "execute_result",
          "data": {
            "text/plain": [
              "(42306, 56)"
            ]
          },
          "metadata": {
            "tags": []
          },
          "execution_count": 5
        }
      ]
    },
    {
      "cell_type": "markdown",
      "metadata": {
        "id": "n8bujock3spS",
        "colab_type": "text"
      },
      "source": [
        "# 2. Narrowing down our columns\n",
        "It's a great idea to spend some time to familiarize ourselves with the columns in the dataset, to understand what each feature represents. This is important, because a poor understanding of the features could cause us to make mistakes in the data analysis and the modeling process.\n",
        "\n",
        "We'll be using the data dictionary Lending Club provided to help us become familiar with the columns and what each represents in the dataset. To make the process easier, we'll create a DataFrame to contain the names of the columns, data type, first row's values, and description from the data dictionary.\n",
        "\n",
        "To make this easier, we've pre-converted the data dictionary from Excel format to a CSV."
      ]
    },
    {
      "cell_type": "code",
      "metadata": {
        "id": "B5WZqOJL3spT",
        "colab_type": "code",
        "colab": {
          "base_uri": "https://localhost:8080/",
          "height": 51
        },
        "outputId": "ecdc7445-d77f-4144-adc4-cfc1c3dcc7b1"
      },
      "source": [
        "data_dictionary = pd.read_csv('LCDataDictionary.csv') # Loading in the data dictionary\n",
        "print(data_dictionary.shape[0])\n",
        "print(data_dictionary.columns.tolist())"
      ],
      "execution_count": 9,
      "outputs": [
        {
          "output_type": "stream",
          "text": [
            "117\n",
            "['LoanStatNew', 'Description']\n"
          ],
          "name": "stdout"
        }
      ]
    },
    {
      "cell_type": "code",
      "metadata": {
        "scrolled": true,
        "id": "AIiu7nvY3spW",
        "colab_type": "code",
        "colab": {
          "base_uri": "https://localhost:8080/",
          "height": 255
        },
        "outputId": "3b0e5e24-90b0-4a78-f073-550d6705268b"
      },
      "source": [
        "data_dictionary.head()\n",
        "data_dictionary = data_dictionary.rename(columns={'LoanStatNew': 'name','Description': 'description'})\n",
        "print(data_dictionary)"
      ],
      "execution_count": 10,
      "outputs": [
        {
          "output_type": "stream",
          "text": [
            "                      name                                        description\n",
            "0           acc_now_delinq  The number of accounts on which the borrower i...\n",
            "1     acc_open_past_24mths         Number of trades opened in past 24 months.\n",
            "2               addr_state  The state provided by the borrower in the loan...\n",
            "3                 all_util              Balance to credit limit on all trades\n",
            "4               annual_inc  The self-reported annual income provided by th...\n",
            "..                     ...                                                ...\n",
            "112    verification_status  Indicates if income was verified by LC, not ve...\n",
            "113  verified_status_joint  Indicates if the co-borrowers' joint income wa...\n",
            "114               zip_code  The first 3 numbers of the zip code provided b...\n",
            "115                    NaN                                                NaN\n",
            "116                    NaN  * Employer Title replaces Employer Name for al...\n",
            "\n",
            "[117 rows x 2 columns]\n"
          ],
          "name": "stdout"
        }
      ]
    },
    {
      "cell_type": "markdown",
      "metadata": {
        "id": "WmjmFhHa3spa",
        "colab_type": "text"
      },
      "source": [
        "# Now that we've got the data dictionary loaded.\n",
        "Let's join the first row of loans_2007 to the data_dictionary DataFrame to give us a preview DataFrame with the following columns:\n",
        "\n",
        "name — contains the column names of loans_2007.\n",
        "dtypes — contains the data types of the loans_2007 columns.\n",
        "first value — contains the values of loans_2007 first row.\n",
        "description — explains what each column in loans_2007 "
      ]
    },
    {
      "cell_type": "code",
      "metadata": {
        "scrolled": false,
        "id": "qOUyRYaS3spb",
        "colab_type": "code",
        "colab": {}
      },
      "source": [
        "loans_2007_dtypes = pd.DataFrame(loans_2007.dtypes,columns=['dtypes'])\n",
        "loans_2007_dtypes = loans_2007_dtypes.reset_index()\n",
        "loans_2007_dtypes['name'] = loans_2007_dtypes['index']\n",
        "#print (loans_2007_dtypes)\n",
        "loans_2007_dtypes = loans_2007_dtypes[['name','dtypes']]\n",
        "\n",
        "loans_2007_dtypes['first value'] = loans_2007.loc[0].values\n",
        "preview = loans_2007_dtypes.merge(data_dictionary, on='name',how='left')"
      ],
      "execution_count": 0,
      "outputs": []
    },
    {
      "cell_type": "code",
      "metadata": {
        "id": "JJd-aERr3spe",
        "colab_type": "code",
        "colab": {},
        "outputId": "5db03e58-09df-4830-9c0d-5b0095846a7f"
      },
      "source": [
        "preview.head()"
      ],
      "execution_count": 0,
      "outputs": [
        {
          "output_type": "execute_result",
          "data": {
            "text/html": [
              "<div>\n",
              "<style scoped>\n",
              "    .dataframe tbody tr th:only-of-type {\n",
              "        vertical-align: middle;\n",
              "    }\n",
              "\n",
              "    .dataframe tbody tr th {\n",
              "        vertical-align: top;\n",
              "    }\n",
              "\n",
              "    .dataframe thead th {\n",
              "        text-align: right;\n",
              "    }\n",
              "</style>\n",
              "<table border=\"1\" class=\"dataframe\">\n",
              "  <thead>\n",
              "    <tr style=\"text-align: right;\">\n",
              "      <th></th>\n",
              "      <th>name</th>\n",
              "      <th>dtypes</th>\n",
              "      <th>first value</th>\n",
              "      <th>description</th>\n",
              "    </tr>\n",
              "  </thead>\n",
              "  <tbody>\n",
              "    <tr>\n",
              "      <th>0</th>\n",
              "      <td>id</td>\n",
              "      <td>object</td>\n",
              "      <td>1077501</td>\n",
              "      <td>A unique LC assigned ID for the loan listing.</td>\n",
              "    </tr>\n",
              "    <tr>\n",
              "      <th>1</th>\n",
              "      <td>member_id</td>\n",
              "      <td>float64</td>\n",
              "      <td>1.2966e+06</td>\n",
              "      <td>A unique LC assigned Id for the borrower member.</td>\n",
              "    </tr>\n",
              "    <tr>\n",
              "      <th>2</th>\n",
              "      <td>loan_amnt</td>\n",
              "      <td>float64</td>\n",
              "      <td>5000</td>\n",
              "      <td>The listed amount of the loan applied for by t...</td>\n",
              "    </tr>\n",
              "    <tr>\n",
              "      <th>3</th>\n",
              "      <td>funded_amnt</td>\n",
              "      <td>float64</td>\n",
              "      <td>5000</td>\n",
              "      <td>The total amount committed to that loan at tha...</td>\n",
              "    </tr>\n",
              "    <tr>\n",
              "      <th>4</th>\n",
              "      <td>funded_amnt_inv</td>\n",
              "      <td>float64</td>\n",
              "      <td>4975</td>\n",
              "      <td>The total amount committed by investors for th...</td>\n",
              "    </tr>\n",
              "  </tbody>\n",
              "</table>\n",
              "</div>"
            ],
            "text/plain": [
              "              name   dtypes first value  \\\n",
              "0               id   object     1077501   \n",
              "1        member_id  float64  1.2966e+06   \n",
              "2        loan_amnt  float64        5000   \n",
              "3      funded_amnt  float64        5000   \n",
              "4  funded_amnt_inv  float64        4975   \n",
              "\n",
              "                                         description  \n",
              "0      A unique LC assigned ID for the loan listing.  \n",
              "1   A unique LC assigned Id for the borrower member.  \n",
              "2  The listed amount of the loan applied for by t...  \n",
              "3  The total amount committed to that loan at tha...  \n",
              "4  The total amount committed by investors for th...  "
            ]
          },
          "metadata": {
            "tags": []
          },
          "execution_count": 9
        }
      ]
    },
    {
      "cell_type": "markdown",
      "metadata": {
        "id": "ZxPq6qBD3sph",
        "colab_type": "text"
      },
      "source": [
        "When we printed the shape of loans_2007 earlier, we noticed that it had 56 columns which also means this preview DataFrame has 56 rows. It can be cumbersome to try to explore all the rows of preview at once, so instead we'll break it up into three parts and look at smaller selection of features each time.\n",
        "\n",
        "As you explore the features to better understand each of them, you'll want to pay attention to any column that:\n",
        "\n",
        "leaks information from the future (after the loan has already been funded),\n",
        "don't affect the borrower's ability to pay back the loan (e.g. a randomly generated ID value by Lending Club),\n",
        "is formatted poorly,\n",
        "requires more data or a lot of preprocessing to turn into useful a feature, or\n",
        "contains redundant information.\n",
        "I'll say it again to emphasize it because it's important: We need to especially pay close attention to data leakage, which can cause the model to overfit. This is because the model would be also learning from features that wouldn't be available when we're using it make predictions on future loans.\n",
        "\n",
        "First Group Of Columns\n",
        "Let's display the first 19 rows of preview and analyze them:"
      ]
    },
    {
      "cell_type": "code",
      "metadata": {
        "id": "Ya8yxlpo3spj",
        "colab_type": "code",
        "colab": {
          "base_uri": "https://localhost:8080/",
          "height": 638
        },
        "outputId": "a3b1fda5-8e9e-4aee-9590-7617bfaa3ba5"
      },
      "source": [
        "preview[:19] "
      ],
      "execution_count": 12,
      "outputs": [
        {
          "output_type": "execute_result",
          "data": {
            "text/html": [
              "<div>\n",
              "<style scoped>\n",
              "    .dataframe tbody tr th:only-of-type {\n",
              "        vertical-align: middle;\n",
              "    }\n",
              "\n",
              "    .dataframe tbody tr th {\n",
              "        vertical-align: top;\n",
              "    }\n",
              "\n",
              "    .dataframe thead th {\n",
              "        text-align: right;\n",
              "    }\n",
              "</style>\n",
              "<table border=\"1\" class=\"dataframe\">\n",
              "  <thead>\n",
              "    <tr style=\"text-align: right;\">\n",
              "      <th></th>\n",
              "      <th>name</th>\n",
              "      <th>dtypes</th>\n",
              "      <th>first value</th>\n",
              "      <th>description</th>\n",
              "    </tr>\n",
              "  </thead>\n",
              "  <tbody>\n",
              "    <tr>\n",
              "      <th>0</th>\n",
              "      <td>id</td>\n",
              "      <td>object</td>\n",
              "      <td>1077501</td>\n",
              "      <td>A unique LC assigned ID for the loan listing.</td>\n",
              "    </tr>\n",
              "    <tr>\n",
              "      <th>1</th>\n",
              "      <td>member_id</td>\n",
              "      <td>float64</td>\n",
              "      <td>1.2966e+06</td>\n",
              "      <td>A unique LC assigned Id for the borrower member.</td>\n",
              "    </tr>\n",
              "    <tr>\n",
              "      <th>2</th>\n",
              "      <td>loan_amnt</td>\n",
              "      <td>float64</td>\n",
              "      <td>5000</td>\n",
              "      <td>The listed amount of the loan applied for by t...</td>\n",
              "    </tr>\n",
              "    <tr>\n",
              "      <th>3</th>\n",
              "      <td>funded_amnt</td>\n",
              "      <td>float64</td>\n",
              "      <td>5000</td>\n",
              "      <td>The total amount committed to that loan at tha...</td>\n",
              "    </tr>\n",
              "    <tr>\n",
              "      <th>4</th>\n",
              "      <td>funded_amnt_inv</td>\n",
              "      <td>float64</td>\n",
              "      <td>4975</td>\n",
              "      <td>The total amount committed by investors for th...</td>\n",
              "    </tr>\n",
              "    <tr>\n",
              "      <th>5</th>\n",
              "      <td>term</td>\n",
              "      <td>object</td>\n",
              "      <td>36 months</td>\n",
              "      <td>The number of payments on the loan. Values are...</td>\n",
              "    </tr>\n",
              "    <tr>\n",
              "      <th>6</th>\n",
              "      <td>int_rate</td>\n",
              "      <td>float64</td>\n",
              "      <td>0.1065</td>\n",
              "      <td>Interest Rate on the loan</td>\n",
              "    </tr>\n",
              "    <tr>\n",
              "      <th>7</th>\n",
              "      <td>installment</td>\n",
              "      <td>float64</td>\n",
              "      <td>162.87</td>\n",
              "      <td>The monthly payment owed by the borrower if th...</td>\n",
              "    </tr>\n",
              "    <tr>\n",
              "      <th>8</th>\n",
              "      <td>grade</td>\n",
              "      <td>object</td>\n",
              "      <td>B</td>\n",
              "      <td>LC assigned loan grade</td>\n",
              "    </tr>\n",
              "    <tr>\n",
              "      <th>9</th>\n",
              "      <td>sub_grade</td>\n",
              "      <td>object</td>\n",
              "      <td>B2</td>\n",
              "      <td>LC assigned loan subgrade</td>\n",
              "    </tr>\n",
              "    <tr>\n",
              "      <th>10</th>\n",
              "      <td>emp_title</td>\n",
              "      <td>object</td>\n",
              "      <td>NaN</td>\n",
              "      <td>The job title supplied by the Borrower when ap...</td>\n",
              "    </tr>\n",
              "    <tr>\n",
              "      <th>11</th>\n",
              "      <td>emp_length</td>\n",
              "      <td>object</td>\n",
              "      <td>10+ years</td>\n",
              "      <td>Employment length in years. Possible values ar...</td>\n",
              "    </tr>\n",
              "    <tr>\n",
              "      <th>12</th>\n",
              "      <td>home_ownership</td>\n",
              "      <td>object</td>\n",
              "      <td>RENT</td>\n",
              "      <td>The home ownership status provided by the borr...</td>\n",
              "    </tr>\n",
              "    <tr>\n",
              "      <th>13</th>\n",
              "      <td>annual_inc</td>\n",
              "      <td>float64</td>\n",
              "      <td>24000</td>\n",
              "      <td>The self-reported annual income provided by th...</td>\n",
              "    </tr>\n",
              "    <tr>\n",
              "      <th>14</th>\n",
              "      <td>verification_status</td>\n",
              "      <td>object</td>\n",
              "      <td>Verified</td>\n",
              "      <td>Indicates if income was verified by LC, not ve...</td>\n",
              "    </tr>\n",
              "    <tr>\n",
              "      <th>15</th>\n",
              "      <td>issue_d</td>\n",
              "      <td>object</td>\n",
              "      <td>Dec-2011</td>\n",
              "      <td>The month which the loan was funded</td>\n",
              "    </tr>\n",
              "    <tr>\n",
              "      <th>16</th>\n",
              "      <td>loan_status</td>\n",
              "      <td>object</td>\n",
              "      <td>Fully Paid</td>\n",
              "      <td>Current status of the loan</td>\n",
              "    </tr>\n",
              "    <tr>\n",
              "      <th>17</th>\n",
              "      <td>pymnt_plan</td>\n",
              "      <td>object</td>\n",
              "      <td>False</td>\n",
              "      <td>Indicates if a payment plan has been put in pl...</td>\n",
              "    </tr>\n",
              "    <tr>\n",
              "      <th>18</th>\n",
              "      <td>purpose</td>\n",
              "      <td>object</td>\n",
              "      <td>credit_card</td>\n",
              "      <td>A category provided by the borrower for the lo...</td>\n",
              "    </tr>\n",
              "  </tbody>\n",
              "</table>\n",
              "</div>"
            ],
            "text/plain": [
              "                   name  ...                                        description\n",
              "0                    id  ...      A unique LC assigned ID for the loan listing.\n",
              "1             member_id  ...   A unique LC assigned Id for the borrower member.\n",
              "2             loan_amnt  ...  The listed amount of the loan applied for by t...\n",
              "3           funded_amnt  ...  The total amount committed to that loan at tha...\n",
              "4       funded_amnt_inv  ...  The total amount committed by investors for th...\n",
              "5                  term  ...  The number of payments on the loan. Values are...\n",
              "6              int_rate  ...                          Interest Rate on the loan\n",
              "7           installment  ...  The monthly payment owed by the borrower if th...\n",
              "8                 grade  ...                             LC assigned loan grade\n",
              "9             sub_grade  ...                          LC assigned loan subgrade\n",
              "10            emp_title  ...  The job title supplied by the Borrower when ap...\n",
              "11           emp_length  ...  Employment length in years. Possible values ar...\n",
              "12       home_ownership  ...  The home ownership status provided by the borr...\n",
              "13           annual_inc  ...  The self-reported annual income provided by th...\n",
              "14  verification_status  ...  Indicates if income was verified by LC, not ve...\n",
              "15              issue_d  ...                The month which the loan was funded\n",
              "16          loan_status  ...                         Current status of the loan\n",
              "17           pymnt_plan  ...  Indicates if a payment plan has been put in pl...\n",
              "18              purpose  ...  A category provided by the borrower for the lo...\n",
              "\n",
              "[19 rows x 4 columns]"
            ]
          },
          "metadata": {
            "tags": []
          },
          "execution_count": 12
        }
      ]
    },
    {
      "cell_type": "markdown",
      "metadata": {
        "id": "wyEiWsic3spm",
        "colab_type": "text"
      },
      "source": [
        "After analyzing the columns, we can conclude that the following features can be removed:\n",
        "\n",
        "id — randomly generated field by Lending Club for unique identification purposes only.\n",
        "member_id — also randomly generated field by Lending Club for identification purposes only.\n",
        "funded_amnt — leaks information from the future(after the loan is already started to be funded).\n",
        "funded_amnt_inv — also leaks data from the future.\n",
        "sub_grade — contains redundant information that is already in the grade column (more below).\n",
        "int_rate — also included within the grade column.\n",
        "emp_title — requires other data and a lot of processing to become potentially useful\n",
        "issued_d — leaks data from the future.\n",
        "Lending Club uses a borrower's grade and payment term (30 or months) to assign an interest rate (you can read more about Rates & Fees). This causes variations in interest rate within a given grade. But, what may be useful for our model is to focus on clusters of borrowers instead of individuals. And, that's exactly what grading does - it segments borrowers based on their credit score and other behaviors, which is we should keep the grade column and drop interest int_rate and sub_grade.\n",
        "\n",
        "Let's drop these columns from the DataFrame before moving onto to the next group of columns."
      ]
    },
    {
      "cell_type": "code",
      "metadata": {
        "id": "tH7Xex7O3spn",
        "colab_type": "code",
        "colab": {}
      },
      "source": [
        "drop_list = ['id','member_id','funded_amnt','funded_amnt_inv',\n",
        "             'int_rate','sub_grade','emp_title','issue_d']\n",
        "loans_2007 = loans_2007.drop(drop_list,axis=1)"
      ],
      "execution_count": 0,
      "outputs": []
    },
    {
      "cell_type": "markdown",
      "metadata": {
        "id": "LbDtCSU73spt",
        "colab_type": "text"
      },
      "source": [
        "Second Group Of Columns\n",
        "Let's move on to the next 19 columns:"
      ]
    },
    {
      "cell_type": "code",
      "metadata": {
        "id": "9eeakOal3spu",
        "colab_type": "code",
        "colab": {
          "base_uri": "https://localhost:8080/",
          "height": 638
        },
        "outputId": "adf5b22e-9e3f-4958-eed6-f1244b907444"
      },
      "source": [
        "preview[19:38]"
      ],
      "execution_count": 14,
      "outputs": [
        {
          "output_type": "execute_result",
          "data": {
            "text/html": [
              "<div>\n",
              "<style scoped>\n",
              "    .dataframe tbody tr th:only-of-type {\n",
              "        vertical-align: middle;\n",
              "    }\n",
              "\n",
              "    .dataframe tbody tr th {\n",
              "        vertical-align: top;\n",
              "    }\n",
              "\n",
              "    .dataframe thead th {\n",
              "        text-align: right;\n",
              "    }\n",
              "</style>\n",
              "<table border=\"1\" class=\"dataframe\">\n",
              "  <thead>\n",
              "    <tr style=\"text-align: right;\">\n",
              "      <th></th>\n",
              "      <th>name</th>\n",
              "      <th>dtypes</th>\n",
              "      <th>first value</th>\n",
              "      <th>description</th>\n",
              "    </tr>\n",
              "  </thead>\n",
              "  <tbody>\n",
              "    <tr>\n",
              "      <th>19</th>\n",
              "      <td>title</td>\n",
              "      <td>object</td>\n",
              "      <td>Computer</td>\n",
              "      <td>The loan title provided by the borrower</td>\n",
              "    </tr>\n",
              "    <tr>\n",
              "      <th>20</th>\n",
              "      <td>zip_code</td>\n",
              "      <td>object</td>\n",
              "      <td>860xx</td>\n",
              "      <td>The first 3 numbers of the zip code provided b...</td>\n",
              "    </tr>\n",
              "    <tr>\n",
              "      <th>21</th>\n",
              "      <td>addr_state</td>\n",
              "      <td>object</td>\n",
              "      <td>AZ</td>\n",
              "      <td>The state provided by the borrower in the loan...</td>\n",
              "    </tr>\n",
              "    <tr>\n",
              "      <th>22</th>\n",
              "      <td>dti</td>\n",
              "      <td>float64</td>\n",
              "      <td>27.65</td>\n",
              "      <td>A ratio calculated using the borrower’s total ...</td>\n",
              "    </tr>\n",
              "    <tr>\n",
              "      <th>23</th>\n",
              "      <td>delinq_2yrs</td>\n",
              "      <td>float64</td>\n",
              "      <td>0</td>\n",
              "      <td>The number of 30+ days past-due incidences of ...</td>\n",
              "    </tr>\n",
              "    <tr>\n",
              "      <th>24</th>\n",
              "      <td>earliest_cr_line</td>\n",
              "      <td>object</td>\n",
              "      <td>Jan-1985</td>\n",
              "      <td>The month the borrower's earliest reported cre...</td>\n",
              "    </tr>\n",
              "    <tr>\n",
              "      <th>25</th>\n",
              "      <td>fico_range_low</td>\n",
              "      <td>float64</td>\n",
              "      <td>735</td>\n",
              "      <td>The lower boundary range the borrower’s FICO a...</td>\n",
              "    </tr>\n",
              "    <tr>\n",
              "      <th>26</th>\n",
              "      <td>fico_range_high</td>\n",
              "      <td>float64</td>\n",
              "      <td>739</td>\n",
              "      <td>The upper boundary range the borrower’s FICO a...</td>\n",
              "    </tr>\n",
              "    <tr>\n",
              "      <th>27</th>\n",
              "      <td>inq_last_6mths</td>\n",
              "      <td>float64</td>\n",
              "      <td>1</td>\n",
              "      <td>The number of inquiries in past 6 months (excl...</td>\n",
              "    </tr>\n",
              "    <tr>\n",
              "      <th>28</th>\n",
              "      <td>open_acc</td>\n",
              "      <td>float64</td>\n",
              "      <td>3</td>\n",
              "      <td>The number of open credit lines in the borrowe...</td>\n",
              "    </tr>\n",
              "    <tr>\n",
              "      <th>29</th>\n",
              "      <td>pub_rec</td>\n",
              "      <td>float64</td>\n",
              "      <td>0</td>\n",
              "      <td>Number of derogatory public records</td>\n",
              "    </tr>\n",
              "    <tr>\n",
              "      <th>30</th>\n",
              "      <td>revol_bal</td>\n",
              "      <td>float64</td>\n",
              "      <td>13648</td>\n",
              "      <td>Total credit revolving balance</td>\n",
              "    </tr>\n",
              "    <tr>\n",
              "      <th>31</th>\n",
              "      <td>revol_util</td>\n",
              "      <td>float64</td>\n",
              "      <td>0.837</td>\n",
              "      <td>Revolving line utilization rate, or the amount...</td>\n",
              "    </tr>\n",
              "    <tr>\n",
              "      <th>32</th>\n",
              "      <td>total_acc</td>\n",
              "      <td>float64</td>\n",
              "      <td>9</td>\n",
              "      <td>The total number of credit lines currently in ...</td>\n",
              "    </tr>\n",
              "    <tr>\n",
              "      <th>33</th>\n",
              "      <td>initial_list_status</td>\n",
              "      <td>object</td>\n",
              "      <td>False</td>\n",
              "      <td>The initial listing status of the loan. Possib...</td>\n",
              "    </tr>\n",
              "    <tr>\n",
              "      <th>34</th>\n",
              "      <td>out_prncp</td>\n",
              "      <td>float64</td>\n",
              "      <td>0</td>\n",
              "      <td>Remaining outstanding principal for total amou...</td>\n",
              "    </tr>\n",
              "    <tr>\n",
              "      <th>35</th>\n",
              "      <td>out_prncp_inv</td>\n",
              "      <td>float64</td>\n",
              "      <td>0</td>\n",
              "      <td>Remaining outstanding principal for portion of...</td>\n",
              "    </tr>\n",
              "    <tr>\n",
              "      <th>36</th>\n",
              "      <td>total_pymnt</td>\n",
              "      <td>float64</td>\n",
              "      <td>5863.16</td>\n",
              "      <td>Payments received to date for total amount funded</td>\n",
              "    </tr>\n",
              "    <tr>\n",
              "      <th>37</th>\n",
              "      <td>total_pymnt_inv</td>\n",
              "      <td>float64</td>\n",
              "      <td>5833.84</td>\n",
              "      <td>Payments received to date for portion of total...</td>\n",
              "    </tr>\n",
              "  </tbody>\n",
              "</table>\n",
              "</div>"
            ],
            "text/plain": [
              "                   name  ...                                        description\n",
              "19                title  ...            The loan title provided by the borrower\n",
              "20             zip_code  ...  The first 3 numbers of the zip code provided b...\n",
              "21           addr_state  ...  The state provided by the borrower in the loan...\n",
              "22                  dti  ...  A ratio calculated using the borrower’s total ...\n",
              "23          delinq_2yrs  ...  The number of 30+ days past-due incidences of ...\n",
              "24     earliest_cr_line  ...  The month the borrower's earliest reported cre...\n",
              "25       fico_range_low  ...  The lower boundary range the borrower’s FICO a...\n",
              "26      fico_range_high  ...  The upper boundary range the borrower’s FICO a...\n",
              "27       inq_last_6mths  ...  The number of inquiries in past 6 months (excl...\n",
              "28             open_acc  ...  The number of open credit lines in the borrowe...\n",
              "29              pub_rec  ...                Number of derogatory public records\n",
              "30            revol_bal  ...                     Total credit revolving balance\n",
              "31           revol_util  ...  Revolving line utilization rate, or the amount...\n",
              "32            total_acc  ...  The total number of credit lines currently in ...\n",
              "33  initial_list_status  ...  The initial listing status of the loan. Possib...\n",
              "34            out_prncp  ...  Remaining outstanding principal for total amou...\n",
              "35        out_prncp_inv  ...  Remaining outstanding principal for portion of...\n",
              "36          total_pymnt  ...  Payments received to date for total amount funded\n",
              "37      total_pymnt_inv  ...  Payments received to date for portion of total...\n",
              "\n",
              "[19 rows x 4 columns]"
            ]
          },
          "metadata": {
            "tags": []
          },
          "execution_count": 14
        }
      ]
    },
    {
      "cell_type": "markdown",
      "metadata": {
        "id": "ThW7rBlg3spy",
        "colab_type": "text"
      },
      "source": [
        "In this group,take note of the fico_range_low and fico_range_high columns. Both are in this second group of columns but because they related to some other columns, we'll talk more about them after looking at the last group of columns.\n",
        "\n",
        "We can drop the following columns:\n",
        "\n",
        "zip_code - mostly redundant with the addr_state column since only the first 3 digits of the 5 digit zip code are visible.\n",
        "out_prncp - leaks data from the future.\n",
        "out_prncp_inv - also leaks data from the future.\n",
        "total_pymnt - also leaks data from the future.\n",
        "total_pymnt_inv - also leaks data from the future.\n",
        "Let's go ahead and remove these 5 columns from the DataFrame:"
      ]
    },
    {
      "cell_type": "code",
      "metadata": {
        "id": "mlGG9rwj3spz",
        "colab_type": "code",
        "colab": {}
      },
      "source": [
        "drop_cols = [ 'zip_code','out_prncp','out_prncp_inv',\n",
        "             'total_pymnt','total_pymnt_inv']\n",
        "loans_2007 = loans_2007.drop(drop_cols, axis=1)"
      ],
      "execution_count": 0,
      "outputs": []
    },
    {
      "cell_type": "markdown",
      "metadata": {
        "id": "9scoFMWF3sp2",
        "colab_type": "text"
      },
      "source": [
        "Third Group Of Columns\n",
        "Let's analyze the last group of features:"
      ]
    },
    {
      "cell_type": "code",
      "metadata": {
        "id": "B6ZcPmsU3sp2",
        "colab_type": "code",
        "colab": {
          "base_uri": "https://localhost:8080/",
          "height": 607
        },
        "outputId": "35b099c1-e1e8-4552-df28-5dfb07993d56"
      },
      "source": [
        "preview[38:]"
      ],
      "execution_count": 16,
      "outputs": [
        {
          "output_type": "execute_result",
          "data": {
            "text/html": [
              "<div>\n",
              "<style scoped>\n",
              "    .dataframe tbody tr th:only-of-type {\n",
              "        vertical-align: middle;\n",
              "    }\n",
              "\n",
              "    .dataframe tbody tr th {\n",
              "        vertical-align: top;\n",
              "    }\n",
              "\n",
              "    .dataframe thead th {\n",
              "        text-align: right;\n",
              "    }\n",
              "</style>\n",
              "<table border=\"1\" class=\"dataframe\">\n",
              "  <thead>\n",
              "    <tr style=\"text-align: right;\">\n",
              "      <th></th>\n",
              "      <th>name</th>\n",
              "      <th>dtypes</th>\n",
              "      <th>first value</th>\n",
              "      <th>description</th>\n",
              "    </tr>\n",
              "  </thead>\n",
              "  <tbody>\n",
              "    <tr>\n",
              "      <th>38</th>\n",
              "      <td>total_rec_prncp</td>\n",
              "      <td>float64</td>\n",
              "      <td>5000</td>\n",
              "      <td>Principal received to date</td>\n",
              "    </tr>\n",
              "    <tr>\n",
              "      <th>39</th>\n",
              "      <td>total_rec_int</td>\n",
              "      <td>float64</td>\n",
              "      <td>863.16</td>\n",
              "      <td>Interest received to date</td>\n",
              "    </tr>\n",
              "    <tr>\n",
              "      <th>40</th>\n",
              "      <td>total_rec_late_fee</td>\n",
              "      <td>float64</td>\n",
              "      <td>0</td>\n",
              "      <td>Late fees received to date</td>\n",
              "    </tr>\n",
              "    <tr>\n",
              "      <th>41</th>\n",
              "      <td>recoveries</td>\n",
              "      <td>float64</td>\n",
              "      <td>0</td>\n",
              "      <td>post charge off gross recovery</td>\n",
              "    </tr>\n",
              "    <tr>\n",
              "      <th>42</th>\n",
              "      <td>collection_recovery_fee</td>\n",
              "      <td>float64</td>\n",
              "      <td>0</td>\n",
              "      <td>post charge off collection fee</td>\n",
              "    </tr>\n",
              "    <tr>\n",
              "      <th>43</th>\n",
              "      <td>last_pymnt_d</td>\n",
              "      <td>object</td>\n",
              "      <td>Jan-2015</td>\n",
              "      <td>Last month payment was received</td>\n",
              "    </tr>\n",
              "    <tr>\n",
              "      <th>44</th>\n",
              "      <td>last_pymnt_amnt</td>\n",
              "      <td>float64</td>\n",
              "      <td>171.62</td>\n",
              "      <td>Last total payment amount received</td>\n",
              "    </tr>\n",
              "    <tr>\n",
              "      <th>45</th>\n",
              "      <td>last_credit_pull_d</td>\n",
              "      <td>object</td>\n",
              "      <td>Sep-2016</td>\n",
              "      <td>The most recent month LC pulled credit for thi...</td>\n",
              "    </tr>\n",
              "    <tr>\n",
              "      <th>46</th>\n",
              "      <td>last_fico_range_high</td>\n",
              "      <td>float64</td>\n",
              "      <td>744</td>\n",
              "      <td>The upper boundary range the borrower’s last F...</td>\n",
              "    </tr>\n",
              "    <tr>\n",
              "      <th>47</th>\n",
              "      <td>last_fico_range_low</td>\n",
              "      <td>float64</td>\n",
              "      <td>740</td>\n",
              "      <td>The lower boundary range the borrower’s last F...</td>\n",
              "    </tr>\n",
              "    <tr>\n",
              "      <th>48</th>\n",
              "      <td>collections_12_mths_ex_med</td>\n",
              "      <td>object</td>\n",
              "      <td>False</td>\n",
              "      <td>Number of collections in 12 months excluding m...</td>\n",
              "    </tr>\n",
              "    <tr>\n",
              "      <th>49</th>\n",
              "      <td>policy_code</td>\n",
              "      <td>object</td>\n",
              "      <td>True</td>\n",
              "      <td>publicly available policy_code=1\\nnew products...</td>\n",
              "    </tr>\n",
              "    <tr>\n",
              "      <th>50</th>\n",
              "      <td>application_type</td>\n",
              "      <td>object</td>\n",
              "      <td>INDIVIDUAL</td>\n",
              "      <td>Indicates whether the loan is an individual ap...</td>\n",
              "    </tr>\n",
              "    <tr>\n",
              "      <th>51</th>\n",
              "      <td>acc_now_delinq</td>\n",
              "      <td>object</td>\n",
              "      <td>False</td>\n",
              "      <td>The number of accounts on which the borrower i...</td>\n",
              "    </tr>\n",
              "    <tr>\n",
              "      <th>52</th>\n",
              "      <td>chargeoff_within_12_mths</td>\n",
              "      <td>object</td>\n",
              "      <td>False</td>\n",
              "      <td>Number of charge-offs within 12 months</td>\n",
              "    </tr>\n",
              "    <tr>\n",
              "      <th>53</th>\n",
              "      <td>delinq_amnt</td>\n",
              "      <td>float64</td>\n",
              "      <td>0</td>\n",
              "      <td>The past-due amount owed for the accounts on w...</td>\n",
              "    </tr>\n",
              "    <tr>\n",
              "      <th>54</th>\n",
              "      <td>pub_rec_bankruptcies</td>\n",
              "      <td>float64</td>\n",
              "      <td>0</td>\n",
              "      <td>Number of public record bankruptcies</td>\n",
              "    </tr>\n",
              "    <tr>\n",
              "      <th>55</th>\n",
              "      <td>tax_liens</td>\n",
              "      <td>object</td>\n",
              "      <td>False</td>\n",
              "      <td>Number of tax liens</td>\n",
              "    </tr>\n",
              "  </tbody>\n",
              "</table>\n",
              "</div>"
            ],
            "text/plain": [
              "                          name  ...                                        description\n",
              "38             total_rec_prncp  ...                         Principal received to date\n",
              "39               total_rec_int  ...                          Interest received to date\n",
              "40          total_rec_late_fee  ...                         Late fees received to date\n",
              "41                  recoveries  ...                     post charge off gross recovery\n",
              "42     collection_recovery_fee  ...                     post charge off collection fee\n",
              "43                last_pymnt_d  ...                    Last month payment was received\n",
              "44             last_pymnt_amnt  ...                 Last total payment amount received\n",
              "45          last_credit_pull_d  ...  The most recent month LC pulled credit for thi...\n",
              "46        last_fico_range_high  ...  The upper boundary range the borrower’s last F...\n",
              "47         last_fico_range_low  ...  The lower boundary range the borrower’s last F...\n",
              "48  collections_12_mths_ex_med  ...  Number of collections in 12 months excluding m...\n",
              "49                 policy_code  ...  publicly available policy_code=1\\nnew products...\n",
              "50            application_type  ...  Indicates whether the loan is an individual ap...\n",
              "51              acc_now_delinq  ...  The number of accounts on which the borrower i...\n",
              "52    chargeoff_within_12_mths  ...             Number of charge-offs within 12 months\n",
              "53                 delinq_amnt  ...  The past-due amount owed for the accounts on w...\n",
              "54        pub_rec_bankruptcies  ...               Number of public record bankruptcies\n",
              "55                   tax_liens  ...                                Number of tax liens\n",
              "\n",
              "[18 rows x 4 columns]"
            ]
          },
          "metadata": {
            "tags": []
          },
          "execution_count": 16
        }
      ]
    },
    {
      "cell_type": "markdown",
      "metadata": {
        "id": "wmDRIFkf3sp5",
        "colab_type": "text"
      },
      "source": [
        "In this last group of columns, we need to drop the following, all of which leak data from the future:\n",
        "\n",
        "total_rec_prncp\n",
        "total_rec_int\n",
        "total_rec_late_fee\n",
        "recoveries\n",
        "collection_recovery_fee\n",
        "last_pymnt_d\n",
        "last_pymnt_amnt\n",
        "Let's drop our last group of columns:"
      ]
    },
    {
      "cell_type": "code",
      "metadata": {
        "id": "05_1jxJo3sp6",
        "colab_type": "code",
        "colab": {
          "base_uri": "https://localhost:8080/",
          "height": 34
        },
        "outputId": "a707a362-00a9-4c13-eeee-e579a6895344"
      },
      "source": [
        "drop_cols = ['total_rec_prncp','total_rec_int', 'total_rec_late_fee',\n",
        "             'recoveries', 'collection_recovery_fee', 'last_pymnt_d',\n",
        "             'last_pymnt_amnt']\n",
        "\n",
        "loans_2007 = loans_2007.drop(drop_cols, axis=1)\n",
        "print (loans_2007.shape)"
      ],
      "execution_count": 17,
      "outputs": [
        {
          "output_type": "stream",
          "text": [
            "(42306, 36)\n"
          ],
          "name": "stdout"
        }
      ]
    },
    {
      "cell_type": "markdown",
      "metadata": {
        "id": "QWhgKsGM3sp9",
        "colab_type": "text"
      },
      "source": [
        "# Investigating FICO Score Columns\n",
        "Now, besides the explanations provided here in the Description column,let's learn more about fico_range_low, fico_range_high, last_fico_range_low, and last_fico_range_high.\n",
        "\n",
        "FICO scores are a credit score, or a number used by banks and credit cards to represent how credit-worthy a person is. While there are a few types of credit scores used in the United States, the FICO score is the best known and most widely used.\n",
        "\n",
        "When a borrower applies for a loan, Lending Club gets the borrowers credit score from FICO - they are given a lower and upper limit of the range that the borrowers score belongs to, and they store those values as fico_range_low, fico_range_high. After that, any updates to the borrowers score are recorded as last_fico_range_low, and last_fico_range_high.\n",
        "\n",
        "A key part of any data science project is to do everything you can to understand the data. While researching this data set, I found a project done in 2014 by a group of students from Stanford University on this same dataset.\n",
        "\n",
        "In the report for the project, the group listed the current credit score (last_fico_range) among late fees and recovery fees as fields they mistakenly added to the features but state that they later learned these columns all leak information into the future.\n",
        "\n",
        "However, following this group's project, another group from Stanford worked on this same Lending Club dataset. They used the FICO score columns, dropping only last_fico_range_low, in their modeling. This second group's report described last_fico_range_high as the one of the more important features in predicting accurate results.\n",
        "\n",
        "The question we must answer is, do the FICO credit scores information into the future? Recall a column is considered leaking information when especially it won't be available at the time we use our model - in this case when we use our model on future loans.\n",
        "\n",
        "This blog examines in-depth the FICO scores for lending club loans, and notes that while looking at the trend of the FICO scores is a great predictor of whether a loan will default, that because FICO scores continue to be updated by the Lending Club after a loan is funded, a defaulting loan can lower the borrowers score, or in other words, will leak data.\n",
        "\n",
        "Therefore we can safely use fico_range_low and fico_range_high, but not last_fico_range_low, and last_fico_range_high. Lets take a look at the values in these columns:"
      ]
    },
    {
      "cell_type": "code",
      "metadata": {
        "id": "adAuwm5m3sp9",
        "colab_type": "code",
        "colab": {
          "base_uri": "https://localhost:8080/",
          "height": 153
        },
        "outputId": "c605ed02-24ad-47ae-f8de-1d6088d346c8"
      },
      "source": [
        "print(loans_2007['fico_range_low'].unique())\n",
        "print(loans_2007['fico_range_high'].unique())"
      ],
      "execution_count": 18,
      "outputs": [
        {
          "output_type": "stream",
          "text": [
            "[735. 740. 690. 695. 730. 660. 675. 725. 710. 705. 720. 665. 670. 760.\n",
            " 685. 755. 680. 700. 790. 750. 715. 765. 745. 770. 780. 775. 795. 810.\n",
            " 800. 815. 785. 805. 825. 820. 630. 625.  nan 650. 655. 645. 640. 635.\n",
            " 610.]\n",
            "[739. 744. 694. 699. 734. 664. 679. 729. 714. 709. 724. 669. 674. 764.\n",
            " 689. 759. 684. 704. 794. 754. 719. 769. 749. 774. 784. 779. 799. 814.\n",
            " 804. 819. 789. 809. 829. 824. 634. 629.  nan 654. 659. 649. 644. 639.\n",
            " 614.]\n"
          ],
          "name": "stdout"
        }
      ]
    },
    {
      "cell_type": "markdown",
      "metadata": {
        "id": "sEP6PeK83sqB",
        "colab_type": "text"
      },
      "source": [
        "# Let's get rid of the missing values, then plot histograms to look at the ranges of the two columns:"
      ]
    },
    {
      "cell_type": "code",
      "metadata": {
        "id": "CbdUEXQm3sqC",
        "colab_type": "code",
        "colab": {
          "base_uri": "https://localhost:8080/",
          "height": 517
        },
        "outputId": "c403987a-f15b-4750-e0b0-cc2641650aa7"
      },
      "source": [
        "fico_columns = ['fico_range_high','fico_range_low']\n",
        "\n",
        "print(loans_2007.shape[0])\n",
        "loans_2007.dropna(subset=fico_columns,inplace=True)\n",
        "print(loans_2007.shape[0])\n",
        "\n",
        "loans_2007[fico_columns].plot.hist(alpha=0.5,bins=20);"
      ],
      "execution_count": 19,
      "outputs": [
        {
          "output_type": "stream",
          "text": [
            "42306\n",
            "42305\n"
          ],
          "name": "stdout"
        },
        {
          "output_type": "display_data",
          "data": {
            "image/png": "[encoded data removed]",
            "text/plain": [
              "<Figure size 864x576 with 1 Axes>"
            ]
          },
          "metadata": {
            "tags": []
          }
        }
      ]
    },
    {
      "cell_type": "markdown",
      "metadata": {
        "id": "HuSfxTJq3sqF",
        "colab_type": "text"
      },
      "source": [
        "# Let's now go ahead and create a column for the average of fico_range_low and fico_range_high columns and name it fico_average. \n",
        "Note that this is not the average FICO score for each borrower, but rather an average of the high and low range that we know the borrower is in."
      ]
    },
    {
      "cell_type": "code",
      "metadata": {
        "id": "ouijxKTG3sqH",
        "colab_type": "code",
        "colab": {}
      },
      "source": [
        "loans_2007['fico_average'] = (loans_2007['fico_range_high'] + loans_2007['fico_range_low']) / 2"
      ],
      "execution_count": 0,
      "outputs": []
    },
    {
      "cell_type": "code",
      "metadata": {
        "id": "ARqALwdA3sqK",
        "colab_type": "code",
        "colab": {}
      },
      "source": [
        "# Let's check what we just did."
      ],
      "execution_count": 0,
      "outputs": []
    },
    {
      "cell_type": "code",
      "metadata": {
        "id": "gji-kphP3sqM",
        "colab_type": "code",
        "colab": {
          "base_uri": "https://localhost:8080/",
          "height": 204
        },
        "outputId": "6dedb38d-0d9a-4b5f-fbae-32a41b0c869b"
      },
      "source": [
        "cols = ['fico_range_low','fico_range_high']\n",
        "loans_2007[cols].head()"
      ],
      "execution_count": 22,
      "outputs": [
        {
          "output_type": "execute_result",
          "data": {
            "text/html": [
              "<div>\n",
              "<style scoped>\n",
              "    .dataframe tbody tr th:only-of-type {\n",
              "        vertical-align: middle;\n",
              "    }\n",
              "\n",
              "    .dataframe tbody tr th {\n",
              "        vertical-align: top;\n",
              "    }\n",
              "\n",
              "    .dataframe thead th {\n",
              "        text-align: right;\n",
              "    }\n",
              "</style>\n",
              "<table border=\"1\" class=\"dataframe\">\n",
              "  <thead>\n",
              "    <tr style=\"text-align: right;\">\n",
              "      <th></th>\n",
              "      <th>fico_range_low</th>\n",
              "      <th>fico_range_high</th>\n",
              "    </tr>\n",
              "  </thead>\n",
              "  <tbody>\n",
              "    <tr>\n",
              "      <th>0</th>\n",
              "      <td>735.0</td>\n",
              "      <td>739.0</td>\n",
              "    </tr>\n",
              "    <tr>\n",
              "      <th>1</th>\n",
              "      <td>740.0</td>\n",
              "      <td>744.0</td>\n",
              "    </tr>\n",
              "    <tr>\n",
              "      <th>2</th>\n",
              "      <td>735.0</td>\n",
              "      <td>739.0</td>\n",
              "    </tr>\n",
              "    <tr>\n",
              "      <th>3</th>\n",
              "      <td>690.0</td>\n",
              "      <td>694.0</td>\n",
              "    </tr>\n",
              "    <tr>\n",
              "      <th>4</th>\n",
              "      <td>695.0</td>\n",
              "      <td>699.0</td>\n",
              "    </tr>\n",
              "  </tbody>\n",
              "</table>\n",
              "</div>"
            ],
            "text/plain": [
              "   fico_range_low  fico_range_high\n",
              "0           735.0            739.0\n",
              "1           740.0            744.0\n",
              "2           735.0            739.0\n",
              "3           690.0            694.0\n",
              "4           695.0            699.0"
            ]
          },
          "metadata": {
            "tags": []
          },
          "execution_count": 22
        }
      ]
    },
    {
      "cell_type": "markdown",
      "metadata": {
        "id": "wzaylQvO3sqP",
        "colab_type": "text"
      },
      "source": [
        "# Good! We got the mean calculations and everything right. \n",
        "Now, we can go ahead and drop fico_range_low, fico_range_high, last_fico_range_low, and last_fico_range_high columns."
      ]
    },
    {
      "cell_type": "code",
      "metadata": {
        "id": "6yAq82Gu3sqP",
        "colab_type": "code",
        "colab": {
          "base_uri": "https://localhost:8080/",
          "height": 34
        },
        "outputId": "dd1c3af8-edd3-4ae6-9f90-60c7c72ed558"
      },
      "source": [
        "drop_cols = ['fico_range_low','fico_range_high','last_fico_range_low',\n",
        "             'last_fico_range_high']\n",
        "loans_2007 = loans_2007.drop(drop_cols, axis=1)\n",
        "loans_2007.shape"
      ],
      "execution_count": 23,
      "outputs": [
        {
          "output_type": "execute_result",
          "data": {
            "text/plain": [
              "(42305, 33)"
            ]
          },
          "metadata": {
            "tags": []
          },
          "execution_count": 23
        }
      ]
    },
    {
      "cell_type": "markdown",
      "metadata": {
        "id": "fgr0-x4D3sqS",
        "colab_type": "text"
      },
      "source": [
        "Notice just by becoming familiar with the columns in the dataset, we're able to reduce the number of columns from 56 to 33.\n",
        "\n",
        "# Decide On A Target Column\n",
        "Now, let's decide on the appropriate column to use as a target column for modeling - keep in mind the main goal is predict who will pay off a loan and who will default.\n",
        "\n",
        "We learned from the description of columns in the preview DataFrame that loan_status is the only field in the main dataset that describe a loan status, so let's use this column as the target column."
      ]
    },
    {
      "cell_type": "code",
      "metadata": {
        "id": "CIedgnLH3sqT",
        "colab_type": "code",
        "colab": {
          "base_uri": "https://localhost:8080/",
          "height": 80
        },
        "outputId": "8a653574-6a9e-4aea-f13d-ed1bb729deeb"
      },
      "source": [
        "preview[preview.name == 'loan_status']"
      ],
      "execution_count": 24,
      "outputs": [
        {
          "output_type": "execute_result",
          "data": {
            "text/html": [
              "<div>\n",
              "<style scoped>\n",
              "    .dataframe tbody tr th:only-of-type {\n",
              "        vertical-align: middle;\n",
              "    }\n",
              "\n",
              "    .dataframe tbody tr th {\n",
              "        vertical-align: top;\n",
              "    }\n",
              "\n",
              "    .dataframe thead th {\n",
              "        text-align: right;\n",
              "    }\n",
              "</style>\n",
              "<table border=\"1\" class=\"dataframe\">\n",
              "  <thead>\n",
              "    <tr style=\"text-align: right;\">\n",
              "      <th></th>\n",
              "      <th>name</th>\n",
              "      <th>dtypes</th>\n",
              "      <th>first value</th>\n",
              "      <th>description</th>\n",
              "    </tr>\n",
              "  </thead>\n",
              "  <tbody>\n",
              "    <tr>\n",
              "      <th>16</th>\n",
              "      <td>loan_status</td>\n",
              "      <td>object</td>\n",
              "      <td>Fully Paid</td>\n",
              "      <td>Current status of the loan</td>\n",
              "    </tr>\n",
              "  </tbody>\n",
              "</table>\n",
              "</div>"
            ],
            "text/plain": [
              "           name  dtypes first value                 description\n",
              "16  loan_status  object  Fully Paid  Current status of the loan"
            ]
          },
          "metadata": {
            "tags": []
          },
          "execution_count": 24
        }
      ]
    },
    {
      "cell_type": "markdown",
      "metadata": {
        "id": "tCWpN5CO3sqV",
        "colab_type": "text"
      },
      "source": [
        "Currently, this column contains text values that need to be converted to numerical values to be able use for training a model.\n",
        "\n",
        "Let's explore the different values in this column and come up with a strategy for converting the values in this column. We'll use the DataFrame method value_counts() to return the frequency of the unique values in the loan_status column."
      ]
    },
    {
      "cell_type": "code",
      "metadata": {
        "id": "d1WxBlY_3sqW",
        "colab_type": "code",
        "colab": {
          "base_uri": "https://localhost:8080/",
          "height": 187
        },
        "outputId": "420db2b9-aca7-4238-9604-85656584fb97"
      },
      "source": [
        "loans_2007[\"loan_status\"].value_counts()"
      ],
      "execution_count": 25,
      "outputs": [
        {
          "output_type": "execute_result",
          "data": {
            "text/plain": [
              "Fully Paid                                             33586\n",
              "Charged Off                                             5653\n",
              "Does not meet the credit policy. Status:Fully Paid      1829\n",
              "Does not meet the credit policy. Status:Charged Off      690\n",
              "Current                                                  513\n",
              "In Grace Period                                           16\n",
              "Late (31-120 days)                                        12\n",
              "Late (16-30 days)                                          5\n",
              "Default                                                    1\n",
              "Name: loan_status, dtype: int64"
            ]
          },
          "metadata": {
            "tags": []
          },
          "execution_count": 25
        }
      ]
    },
    {
      "cell_type": "markdown",
      "metadata": {
        "id": "OS9Y65-43sqZ",
        "colab_type": "text"
      },
      "source": [
        "The loan status has nine different possible values!\n",
        "\n",
        "Let's learn about these unique values to determine the ones that best describe the final outcome of a loan, and also the kind of classification problem we'll be dealing with.\n",
        "\n",
        "You can read about most of the different loan statuses on the Lending Club website as well as these posts on the Lend Academy and Orchard forums. I have pulled that data together in a table below so we can see the unique values, their frequency in the dataset and what each means:"
      ]
    },
    {
      "cell_type": "code",
      "metadata": {
        "id": "5EhOzBzg3sqa",
        "colab_type": "code",
        "colab": {
          "base_uri": "https://localhost:8080/",
          "height": 328
        },
        "outputId": "05660c55-c27f-4b4b-a835-92a98f63b6a3"
      },
      "source": [
        "meaning = [\n",
        "    \"Loan has been fully paid off.\",\n",
        "    \"Loan for which there is no longer a reasonable expectation of further payments.\",\n",
        "    \"While the loan was paid off, the loan application today would no longer meet the credit policy and wouldn't be approved on to the marketplace.\",\n",
        "    \"While the loan was charged off, the loan application today would no longer meet the credit policy and wouldn't be approved on to the marketplace.\",\n",
        "    \"Loan is up to date on current payments.\",\n",
        "    \"The loan is past due but still in the grace period of 15 days.\",\n",
        "    \"Loan hasn't been paid in 31 to 120 days (late on the current payment).\",\n",
        "    \"Loan hasn't been paid in 16 to 30 days (late on the current payment).\",\n",
        "    \"Loan is defaulted on and no payment has been made for more than 121 days.\"]\n",
        "\n",
        "status, count = loans_2007[\"loan_status\"].value_counts().index, loans_2007[\"loan_status\"].value_counts().values\n",
        "\n",
        "loan_statuses_explanation = pd.DataFrame({'Loan Status': status,'Count': count,'Meaning': meaning})[['Loan Status','Count','Meaning']]\n",
        "loan_statuses_explanation"
      ],
      "execution_count": 26,
      "outputs": [
        {
          "output_type": "execute_result",
          "data": {
            "text/html": [
              "<div>\n",
              "<style scoped>\n",
              "    .dataframe tbody tr th:only-of-type {\n",
              "        vertical-align: middle;\n",
              "    }\n",
              "\n",
              "    .dataframe tbody tr th {\n",
              "        vertical-align: top;\n",
              "    }\n",
              "\n",
              "    .dataframe thead th {\n",
              "        text-align: right;\n",
              "    }\n",
              "</style>\n",
              "<table border=\"1\" class=\"dataframe\">\n",
              "  <thead>\n",
              "    <tr style=\"text-align: right;\">\n",
              "      <th></th>\n",
              "      <th>Loan Status</th>\n",
              "      <th>Count</th>\n",
              "      <th>Meaning</th>\n",
              "    </tr>\n",
              "  </thead>\n",
              "  <tbody>\n",
              "    <tr>\n",
              "      <th>0</th>\n",
              "      <td>Fully Paid</td>\n",
              "      <td>33586</td>\n",
              "      <td>Loan has been fully paid off.</td>\n",
              "    </tr>\n",
              "    <tr>\n",
              "      <th>1</th>\n",
              "      <td>Charged Off</td>\n",
              "      <td>5653</td>\n",
              "      <td>Loan for which there is no longer a reasonable...</td>\n",
              "    </tr>\n",
              "    <tr>\n",
              "      <th>2</th>\n",
              "      <td>Does not meet the credit policy. Status:Fully ...</td>\n",
              "      <td>1829</td>\n",
              "      <td>While the loan was paid off, the loan applicat...</td>\n",
              "    </tr>\n",
              "    <tr>\n",
              "      <th>3</th>\n",
              "      <td>Does not meet the credit policy. Status:Charge...</td>\n",
              "      <td>690</td>\n",
              "      <td>While the loan was charged off, the loan appli...</td>\n",
              "    </tr>\n",
              "    <tr>\n",
              "      <th>4</th>\n",
              "      <td>Current</td>\n",
              "      <td>513</td>\n",
              "      <td>Loan is up to date on current payments.</td>\n",
              "    </tr>\n",
              "    <tr>\n",
              "      <th>5</th>\n",
              "      <td>In Grace Period</td>\n",
              "      <td>16</td>\n",
              "      <td>The loan is past due but still in the grace pe...</td>\n",
              "    </tr>\n",
              "    <tr>\n",
              "      <th>6</th>\n",
              "      <td>Late (31-120 days)</td>\n",
              "      <td>12</td>\n",
              "      <td>Loan hasn't been paid in 31 to 120 days (late ...</td>\n",
              "    </tr>\n",
              "    <tr>\n",
              "      <th>7</th>\n",
              "      <td>Late (16-30 days)</td>\n",
              "      <td>5</td>\n",
              "      <td>Loan hasn't been paid in 16 to 30 days (late o...</td>\n",
              "    </tr>\n",
              "    <tr>\n",
              "      <th>8</th>\n",
              "      <td>Default</td>\n",
              "      <td>1</td>\n",
              "      <td>Loan is defaulted on and no payment has been m...</td>\n",
              "    </tr>\n",
              "  </tbody>\n",
              "</table>\n",
              "</div>"
            ],
            "text/plain": [
              "                                         Loan Status  ...                                            Meaning\n",
              "0                                         Fully Paid  ...                      Loan has been fully paid off.\n",
              "1                                        Charged Off  ...  Loan for which there is no longer a reasonable...\n",
              "2  Does not meet the credit policy. Status:Fully ...  ...  While the loan was paid off, the loan applicat...\n",
              "3  Does not meet the credit policy. Status:Charge...  ...  While the loan was charged off, the loan appli...\n",
              "4                                            Current  ...            Loan is up to date on current payments.\n",
              "5                                    In Grace Period  ...  The loan is past due but still in the grace pe...\n",
              "6                                 Late (31-120 days)  ...  Loan hasn't been paid in 31 to 120 days (late ...\n",
              "7                                  Late (16-30 days)  ...  Loan hasn't been paid in 16 to 30 days (late o...\n",
              "8                                            Default  ...  Loan is defaulted on and no payment has been m...\n",
              "\n",
              "[9 rows x 3 columns]"
            ]
          },
          "metadata": {
            "tags": []
          },
          "execution_count": 26
        }
      ]
    },
    {
      "cell_type": "markdown",
      "metadata": {
        "id": "wqyiZ5Yb3sqc",
        "colab_type": "text"
      },
      "source": [
        "Remember, our goal is to build a machine learning model that can learn from past loans in trying to predict which loans will be paid off and which won't. From the above table, only the Fully Paid and Charged Off values describe the final outcome of a loan. The other values describe loans that are still on going, and even though some loans are late on payments, we can't jump the gun and classify them as Charged Off.\n",
        "\n",
        "Also, while the Default status resembles the Charged Off status, in Lending Club's eyes, loans that are charged off have essentially no chance of being repaid while default ones have a small chance. Therefore, we should use only samples where the loan_status column is 'Fully Paid' or 'Charged Off'.\n",
        "\n",
        "We're not interested in any statuses that indicate that the loan is ongoing or in progress, because predicting that something is in progress doesn't tell us anything.\n",
        "\n",
        "Since we're interested in being able to predict which of these 2 values a loan will fall under, we can treat the problem as binary classification.\n",
        "\n",
        "Let's remove all the loans that don't contain either 'Fully Paid' or 'Charged Off' as the loan's status and then transform the 'Fully Paid' values to 1 for the positive case and the 'Charged Off' values to 0 for the negative case.\n",
        "\n",
        "This will mean that out of the ~42,000 rows we have, we'll be removing just over 3,000.\n",
        "\n",
        "There are few different ways to transform all of the values in a column, we'll use the DataFrame method replace().\n"
      ]
    },
    {
      "cell_type": "code",
      "metadata": {
        "id": "LRVZVp-f3sqd",
        "colab_type": "code",
        "colab": {}
      },
      "source": [
        "loans_2007 = loans_2007[(loans_2007[\"loan_status\"] == \"Fully Paid\") |\n",
        "                            (loans_2007[\"loan_status\"] == \"Charged Off\")]\n",
        "\n",
        "mapping_dictionary = {\"loan_status\":{ \"Fully Paid\": 1, \"Charged Off\": 0}}\n",
        "loans_2007 = loans_2007.replace(mapping_dictionary)"
      ],
      "execution_count": 0,
      "outputs": []
    },
    {
      "cell_type": "code",
      "metadata": {
        "id": "HZG57C633sqg",
        "colab_type": "code",
        "colab": {
          "base_uri": "https://localhost:8080/",
          "height": 34
        },
        "outputId": "d6ea8d92-106c-42ad-e64a-d97d6207e33a"
      },
      "source": [
        "print(loans_2007.shape)"
      ],
      "execution_count": 28,
      "outputs": [
        {
          "output_type": "stream",
          "text": [
            "(39239, 33)\n"
          ],
          "name": "stdout"
        }
      ]
    },
    {
      "cell_type": "markdown",
      "metadata": {
        "id": "iZfHklP23sqi",
        "colab_type": "text"
      },
      "source": [
        "# Visualizing the Target Column Outcomes"
      ]
    },
    {
      "cell_type": "code",
      "metadata": {
        "id": "H9Avb4Zj3sqk",
        "colab_type": "code",
        "colab": {
          "base_uri": "https://localhost:8080/",
          "height": 459
        },
        "outputId": "83362b06-1742-4a2a-9a77-a7c615959d2c"
      },
      "source": [
        "filtered_loans = pd.read_csv('filtered_loans.csv')\n",
        "filtered_loans.head(3)\n",
        "fig, axs = plt.subplots(1,2,figsize=(14,7))\n",
        "sns.countplot(x='loan_status',data=filtered_loans,ax=axs[0])\n",
        "axs[0].set_title(\"Frequency of each Loan Status\")\n",
        "filtered_loans.loan_status.value_counts().plot(x=None,y=None, kind='pie', ax=axs[1],autopct='%1.2f%%')\n",
        "axs[1].set_title(\"Percentage of each Loan status\")\n",
        "plt.show()"
      ],
      "execution_count": 30,
      "outputs": [
        {
          "output_type": "display_data",
          "data": {
            "image/png": "[encoded data removed]",
            "text/plain": [
              "<Figure size 1008x504 with 2 Axes>"
            ]
          },
          "metadata": {
            "tags": []
          }
        }
      ]
    },
    {
      "cell_type": "markdown",
      "metadata": {
        "id": "N0j33emm3sqm",
        "colab_type": "text"
      },
      "source": [
        "These plots indicate that a significant number of borrowers in our dataset paid off their loan - 85.62% of loan borrowers paid off amount borrowed, while 14.38% unfortunately defaulted. From our loan data it is these 'defaulters' that we're more interested in filtering out as much as possible to reduce loses on investment returns.\n",
        "\n",
        "# Remove Columns with only One Value\n",
        "To wrap up this section, let's look for any columns that contain only one unique value and remove them. These columns won't be useful for the model since they don't add any information to each loan application. In addition, removing these columns will reduce the number of columns we'll need to explore further in the next stage.\n",
        "\n",
        "The pandas Series method nunique() returns the number of unique values, excluding any null values. We can use apply this method across the dataset to remove these columns in one easy step.\n",
        "\n"
      ]
    },
    {
      "cell_type": "code",
      "metadata": {
        "id": "MK2VXnxg3sqn",
        "colab_type": "code",
        "colab": {}
      },
      "source": [
        "loans_2007 = loans_2007.loc[:,loans_2007.apply(pd.Series.nunique) != 1]"
      ],
      "execution_count": 0,
      "outputs": []
    },
    {
      "cell_type": "markdown",
      "metadata": {
        "id": "4Foi84SL3sqp",
        "colab_type": "text"
      },
      "source": [
        "Again, there may be some columns with more than one unique values but one of the values has insignificant frequency in the dataset. Let's find out and drop such column(s):"
      ]
    },
    {
      "cell_type": "code",
      "metadata": {
        "id": "rTE14C-13sqq",
        "colab_type": "code",
        "colab": {
          "base_uri": "https://localhost:8080/",
          "height": 34
        },
        "outputId": "d48f8e9d-2c4c-4d38-d75d-70237bb4554d"
      },
      "source": [
        "print(loans_2007.shape)"
      ],
      "execution_count": 32,
      "outputs": [
        {
          "output_type": "stream",
          "text": [
            "(39239, 25)\n"
          ],
          "name": "stdout"
        }
      ]
    },
    {
      "cell_type": "code",
      "metadata": {
        "id": "U0GJRHhv3sqs",
        "colab_type": "code",
        "colab": {
          "base_uri": "https://localhost:8080/",
          "height": 306
        },
        "outputId": "71e09a6a-6811-4bdf-8841-3f2cf6913b1e"
      },
      "source": [
        "for col in loans_2007.columns:\n",
        "    if (len(loans_2007[col].unique()) < 4):\n",
        "        print(loans_2007[col].value_counts())\n",
        "        print()"
      ],
      "execution_count": 33,
      "outputs": [
        {
          "output_type": "stream",
          "text": [
            " 36 months    29096\n",
            " 60 months    10143\n",
            "Name: term, dtype: int64\n",
            "\n",
            "Not Verified       16845\n",
            "Verified           12526\n",
            "Source Verified     9868\n",
            "Name: verification_status, dtype: int64\n",
            "\n",
            "1    33586\n",
            "0     5653\n",
            "Name: loan_status, dtype: int64\n",
            "\n",
            "False    39238\n",
            "True         1\n",
            "Name: pymnt_plan, dtype: int64\n",
            "\n"
          ],
          "name": "stdout"
        }
      ]
    },
    {
      "cell_type": "markdown",
      "metadata": {
        "id": "ovATo5bj3squ",
        "colab_type": "text"
      },
      "source": [
        "# The payment plan column (pymnt_plan) has two unique values, 'y' and 'n', with 'y' occurring only once. Let's drop this column:"
      ]
    },
    {
      "cell_type": "code",
      "metadata": {
        "id": "Ysgj93Zs3sqv",
        "colab_type": "code",
        "colab": {
          "base_uri": "https://localhost:8080/",
          "height": 51
        },
        "outputId": "03611c79-e60d-4448-ad31-77139d3ab546"
      },
      "source": [
        "print(loans_2007.shape[1])\n",
        "loans_2007 = loans_2007.drop('pymnt_plan', axis=1)\n",
        "print(\"We've been able to reduced the features to => {}\".format(loans_2007.shape[1]))"
      ],
      "execution_count": 34,
      "outputs": [
        {
          "output_type": "stream",
          "text": [
            "25\n",
            "We've been able to reduced the features to => 24\n"
          ],
          "name": "stdout"
        }
      ]
    },
    {
      "cell_type": "markdown",
      "metadata": {
        "id": "_CFJv48r3sqx",
        "colab_type": "text"
      },
      "source": [
        "Lastly, lets save our work in this section to a CSV file."
      ]
    },
    {
      "cell_type": "code",
      "metadata": {
        "id": "SJ0P9th-3sqx",
        "colab_type": "code",
        "colab": {}
      },
      "source": [
        "loans_2007.to_csv(\"filtered_loans_2007.csv\",index=False)"
      ],
      "execution_count": 0,
      "outputs": []
    },
    {
      "cell_type": "markdown",
      "metadata": {
        "id": "GQuApuDf3sqz",
        "colab_type": "text"
      },
      "source": [
        "# 3. Preparing the Features for Machine Learning\n",
        "In this section, we'll prepare the filtered_loans_2007.csv data for machine learning. We'll focus on handling missing values, converting categorical columns to numeric columns and removing any other extraneous columns.\n",
        "\n",
        "We need to handle missing values and categorical features before feeding the data into a machine learning algorithm, because the mathematics underlying most machine learning models assumes that the data is numerical and contains no missing values. To reinforce this requirement, scikit-learn will return an error if you try to train a model using data that contain missing values or non-numeric values when working with models like linear regression and logistic regression.\n",
        "\n",
        "Here's an outline of what we'll be doing in this stage:\n",
        "\n",
        "Handle Missing Values\n",
        "Investigate Categorical Columns\n",
        "Convert Categorical Columns To Numeric Features\n",
        "Map Ordinal Values To Integers\n",
        "Encode Nominal Values As Dummy Variables\n",
        "First though, let's load in the data from last section's final output:\n",
        "\n"
      ]
    },
    {
      "cell_type": "code",
      "metadata": {
        "id": "qzxA2SWi3sq1",
        "colab_type": "code",
        "colab": {
          "base_uri": "https://localhost:8080/",
          "height": 411
        },
        "outputId": "ee219769-b06a-464a-9e1a-a4d59b240d6a"
      },
      "source": [
        "filtered_loans = pd.read_csv('filtered_loans_2007.csv')\n",
        "print(filtered_loans.shape)\n",
        "filtered_loans.head()"
      ],
      "execution_count": 36,
      "outputs": [
        {
          "output_type": "stream",
          "text": [
            "(39239, 24)\n"
          ],
          "name": "stdout"
        },
        {
          "output_type": "execute_result",
          "data": {
            "text/html": [
              "<div>\n",
              "<style scoped>\n",
              "    .dataframe tbody tr th:only-of-type {\n",
              "        vertical-align: middle;\n",
              "    }\n",
              "\n",
              "    .dataframe tbody tr th {\n",
              "        vertical-align: top;\n",
              "    }\n",
              "\n",
              "    .dataframe thead th {\n",
              "        text-align: right;\n",
              "    }\n",
              "</style>\n",
              "<table border=\"1\" class=\"dataframe\">\n",
              "  <thead>\n",
              "    <tr style=\"text-align: right;\">\n",
              "      <th></th>\n",
              "      <th>loan_amnt</th>\n",
              "      <th>term</th>\n",
              "      <th>installment</th>\n",
              "      <th>grade</th>\n",
              "      <th>emp_length</th>\n",
              "      <th>home_ownership</th>\n",
              "      <th>annual_inc</th>\n",
              "      <th>verification_status</th>\n",
              "      <th>loan_status</th>\n",
              "      <th>purpose</th>\n",
              "      <th>title</th>\n",
              "      <th>addr_state</th>\n",
              "      <th>dti</th>\n",
              "      <th>delinq_2yrs</th>\n",
              "      <th>earliest_cr_line</th>\n",
              "      <th>inq_last_6mths</th>\n",
              "      <th>open_acc</th>\n",
              "      <th>pub_rec</th>\n",
              "      <th>revol_bal</th>\n",
              "      <th>revol_util</th>\n",
              "      <th>total_acc</th>\n",
              "      <th>last_credit_pull_d</th>\n",
              "      <th>pub_rec_bankruptcies</th>\n",
              "      <th>fico_average</th>\n",
              "    </tr>\n",
              "  </thead>\n",
              "  <tbody>\n",
              "    <tr>\n",
              "      <th>0</th>\n",
              "      <td>5000.0</td>\n",
              "      <td>36 months</td>\n",
              "      <td>162.87</td>\n",
              "      <td>B</td>\n",
              "      <td>10+ years</td>\n",
              "      <td>RENT</td>\n",
              "      <td>24000.0</td>\n",
              "      <td>Verified</td>\n",
              "      <td>1</td>\n",
              "      <td>credit_card</td>\n",
              "      <td>Computer</td>\n",
              "      <td>AZ</td>\n",
              "      <td>27.65</td>\n",
              "      <td>0.0</td>\n",
              "      <td>Jan-1985</td>\n",
              "      <td>1.0</td>\n",
              "      <td>3.0</td>\n",
              "      <td>0.0</td>\n",
              "      <td>13648.0</td>\n",
              "      <td>0.837</td>\n",
              "      <td>9.0</td>\n",
              "      <td>Sep-2016</td>\n",
              "      <td>0.0</td>\n",
              "      <td>737.0</td>\n",
              "    </tr>\n",
              "    <tr>\n",
              "      <th>1</th>\n",
              "      <td>2500.0</td>\n",
              "      <td>60 months</td>\n",
              "      <td>59.83</td>\n",
              "      <td>C</td>\n",
              "      <td>&lt; 1 year</td>\n",
              "      <td>RENT</td>\n",
              "      <td>30000.0</td>\n",
              "      <td>Source Verified</td>\n",
              "      <td>0</td>\n",
              "      <td>car</td>\n",
              "      <td>bike</td>\n",
              "      <td>GA</td>\n",
              "      <td>1.00</td>\n",
              "      <td>0.0</td>\n",
              "      <td>Apr-1999</td>\n",
              "      <td>5.0</td>\n",
              "      <td>3.0</td>\n",
              "      <td>0.0</td>\n",
              "      <td>1687.0</td>\n",
              "      <td>0.094</td>\n",
              "      <td>4.0</td>\n",
              "      <td>Sep-2016</td>\n",
              "      <td>0.0</td>\n",
              "      <td>742.0</td>\n",
              "    </tr>\n",
              "    <tr>\n",
              "      <th>2</th>\n",
              "      <td>2400.0</td>\n",
              "      <td>36 months</td>\n",
              "      <td>84.33</td>\n",
              "      <td>C</td>\n",
              "      <td>10+ years</td>\n",
              "      <td>RENT</td>\n",
              "      <td>12252.0</td>\n",
              "      <td>Not Verified</td>\n",
              "      <td>1</td>\n",
              "      <td>small_business</td>\n",
              "      <td>real estate business</td>\n",
              "      <td>IL</td>\n",
              "      <td>8.72</td>\n",
              "      <td>0.0</td>\n",
              "      <td>Nov-2001</td>\n",
              "      <td>2.0</td>\n",
              "      <td>2.0</td>\n",
              "      <td>0.0</td>\n",
              "      <td>2956.0</td>\n",
              "      <td>0.985</td>\n",
              "      <td>10.0</td>\n",
              "      <td>Sep-2016</td>\n",
              "      <td>0.0</td>\n",
              "      <td>737.0</td>\n",
              "    </tr>\n",
              "    <tr>\n",
              "      <th>3</th>\n",
              "      <td>10000.0</td>\n",
              "      <td>36 months</td>\n",
              "      <td>339.31</td>\n",
              "      <td>C</td>\n",
              "      <td>10+ years</td>\n",
              "      <td>RENT</td>\n",
              "      <td>49200.0</td>\n",
              "      <td>Source Verified</td>\n",
              "      <td>1</td>\n",
              "      <td>other</td>\n",
              "      <td>personel</td>\n",
              "      <td>CA</td>\n",
              "      <td>20.00</td>\n",
              "      <td>0.0</td>\n",
              "      <td>Feb-1996</td>\n",
              "      <td>1.0</td>\n",
              "      <td>10.0</td>\n",
              "      <td>0.0</td>\n",
              "      <td>5598.0</td>\n",
              "      <td>0.210</td>\n",
              "      <td>37.0</td>\n",
              "      <td>Apr-2016</td>\n",
              "      <td>0.0</td>\n",
              "      <td>692.0</td>\n",
              "    </tr>\n",
              "    <tr>\n",
              "      <th>4</th>\n",
              "      <td>5000.0</td>\n",
              "      <td>36 months</td>\n",
              "      <td>156.46</td>\n",
              "      <td>A</td>\n",
              "      <td>3 years</td>\n",
              "      <td>RENT</td>\n",
              "      <td>36000.0</td>\n",
              "      <td>Source Verified</td>\n",
              "      <td>1</td>\n",
              "      <td>wedding</td>\n",
              "      <td>My wedding loan I promise to pay back</td>\n",
              "      <td>AZ</td>\n",
              "      <td>11.20</td>\n",
              "      <td>0.0</td>\n",
              "      <td>Nov-2004</td>\n",
              "      <td>3.0</td>\n",
              "      <td>9.0</td>\n",
              "      <td>0.0</td>\n",
              "      <td>7963.0</td>\n",
              "      <td>0.283</td>\n",
              "      <td>12.0</td>\n",
              "      <td>Jan-2016</td>\n",
              "      <td>0.0</td>\n",
              "      <td>732.0</td>\n",
              "    </tr>\n",
              "  </tbody>\n",
              "</table>\n",
              "</div>"
            ],
            "text/plain": [
              "   loan_amnt        term  ...  pub_rec_bankruptcies fico_average\n",
              "0     5000.0   36 months  ...                   0.0        737.0\n",
              "1     2500.0   60 months  ...                   0.0        742.0\n",
              "2     2400.0   36 months  ...                   0.0        737.0\n",
              "3    10000.0   36 months  ...                   0.0        692.0\n",
              "4     5000.0   36 months  ...                   0.0        732.0\n",
              "\n",
              "[5 rows x 24 columns]"
            ]
          },
          "metadata": {
            "tags": []
          },
          "execution_count": 36
        }
      ]
    },
    {
      "cell_type": "markdown",
      "metadata": {
        "id": "Vpe5sFPJ3sq3",
        "colab_type": "text"
      },
      "source": [
        "# Handle Missing Values\n",
        "Let's compute the number of missing values and determine how to handle them. We can return the number of missing values across the DataFrame by:\n",
        "\n",
        "First, use the Pandas DataFrame method isnull() to return a DataFrame containing Boolean values:\n",
        "True if the original value is null\n",
        "False if the original value isn't null\n",
        "Then, use the Pandas DataFrame method sum() to calculate the number of null values in each column."
      ]
    },
    {
      "cell_type": "code",
      "metadata": {
        "id": "N_V2EH043sq4",
        "colab_type": "code",
        "colab": {
          "base_uri": "https://localhost:8080/",
          "height": 459
        },
        "outputId": "976c3f3d-5be0-49dc-9b0f-7b7a80a2b044"
      },
      "source": [
        "null_counts = filtered_loans.isnull().sum()\n",
        "print(\"Number of null values in each column:\\n{}\".format(null_counts))"
      ],
      "execution_count": 37,
      "outputs": [
        {
          "output_type": "stream",
          "text": [
            "Number of null values in each column:\n",
            "loan_amnt                  0\n",
            "term                       0\n",
            "installment                0\n",
            "grade                      0\n",
            "emp_length              1057\n",
            "home_ownership             0\n",
            "annual_inc                 0\n",
            "verification_status        0\n",
            "loan_status                0\n",
            "purpose                    0\n",
            "title                     11\n",
            "addr_state                 0\n",
            "dti                        0\n",
            "delinq_2yrs                0\n",
            "earliest_cr_line           0\n",
            "inq_last_6mths             0\n",
            "open_acc                   0\n",
            "pub_rec                    0\n",
            "revol_bal                  0\n",
            "revol_util                50\n",
            "total_acc                  0\n",
            "last_credit_pull_d         2\n",
            "pub_rec_bankruptcies     697\n",
            "fico_average               0\n",
            "dtype: int64\n"
          ],
          "name": "stdout"
        }
      ]
    },
    {
      "cell_type": "markdown",
      "metadata": {
        "id": "AwKIz_iV3sq7",
        "colab_type": "text"
      },
      "source": [
        "Notice while most of the columns have 0 missing values, title has 9 missing values, revol_util has 48, and pub_rec_bankruptcies contains 675 rows with missing values. Let's remove columns entirely where more than 1% (392) of the rows for that column contain a null value. In addition, we'll remove the remaining rows containing null values, which means we'll lose a bit of data, but in return keep some extra features to use for prediction.\n",
        "\n",
        "This means that we'll keep the title and revol_util columns, just removing rows containing missing values, but drop the pub_rec_bankruptcies column entirely since more than 1% of the rows have a missing value for this column.\n",
        "\n",
        "Here's a list of steps we can use to achieve that:\n",
        "\n",
        "Use the drop method to remove the pub_rec_bankruptcies column from filtered_loans.\n",
        "Use the dropna method to remove all rows from filtered_loans containing any missing values."
      ]
    },
    {
      "cell_type": "code",
      "metadata": {
        "id": "r9HjghEl3sq8",
        "colab_type": "code",
        "colab": {
          "base_uri": "https://localhost:8080/",
          "height": 68
        },
        "outputId": "92412487-d1e4-4d4a-b406-133549d52f3d"
      },
      "source": [
        "print(filtered_loans.shape)\n",
        "filtered_loans = filtered_loans.drop(\"pub_rec_bankruptcies\",axis=1)\n",
        "print(filtered_loans.shape)\n",
        "\n",
        "filtered_loans = filtered_loans.dropna()\n",
        "print(filtered_loans.shape)"
      ],
      "execution_count": 38,
      "outputs": [
        {
          "output_type": "stream",
          "text": [
            "(39239, 24)\n",
            "(39239, 23)\n",
            "(38123, 23)\n"
          ],
          "name": "stdout"
        }
      ]
    },
    {
      "cell_type": "markdown",
      "metadata": {
        "id": "tAi57OQr3sq_",
        "colab_type": "text"
      },
      "source": [
        "Next, we'll focus on the categorical columns.\n",
        "\n",
        "# Investigate Categorical Columns\n",
        "Keep in mind, the goal in this section is to have all the columns as numeric columns (int or float data type), and containing no missing values. We just dealt with the missing values, so let's now find out the number of columns that are of the object data type and then move on to process them into numeric form."
      ]
    },
    {
      "cell_type": "code",
      "metadata": {
        "id": "HivWyBqX3srB",
        "colab_type": "code",
        "colab": {
          "base_uri": "https://localhost:8080/",
          "height": 102
        },
        "outputId": "59dd4ee6-6aec-463c-a343-0c869c77d607"
      },
      "source": [
        "print(\"Data types and their frequency\\n{}\".format(filtered_loans.dtypes.value_counts()))"
      ],
      "execution_count": 39,
      "outputs": [
        {
          "output_type": "stream",
          "text": [
            "Data types and their frequency\n",
            "float64    12\n",
            "object     10\n",
            "int64       1\n",
            "dtype: int64\n"
          ],
          "name": "stdout"
        }
      ]
    },
    {
      "cell_type": "code",
      "metadata": {
        "id": "xQs-N54i3srC",
        "colab_type": "code",
        "colab": {
          "base_uri": "https://localhost:8080/",
          "height": 204
        },
        "outputId": "b2367326-59a2-43bf-f31e-c6ed96a90aeb"
      },
      "source": [
        "object_columns_df = filtered_loans.select_dtypes(include=['object'])\n",
        "print(object_columns_df.iloc[0])"
      ],
      "execution_count": 40,
      "outputs": [
        {
          "output_type": "stream",
          "text": [
            "term                     36 months\n",
            "grade                            B\n",
            "emp_length               10+ years\n",
            "home_ownership                RENT\n",
            "verification_status       Verified\n",
            "purpose                credit_card\n",
            "title                     Computer\n",
            "addr_state                      AZ\n",
            "earliest_cr_line          Jan-1985\n",
            "last_credit_pull_d        Sep-2016\n",
            "Name: 0, dtype: object\n"
          ],
          "name": "stdout"
        }
      ]
    },
    {
      "cell_type": "code",
      "metadata": {
        "scrolled": false,
        "id": "1UVRNll33srE",
        "colab_type": "code",
        "colab": {
          "base_uri": "https://localhost:8080/",
          "height": 1000
        },
        "outputId": "23b76066-5831-4259-de45-6da937109a66"
      },
      "source": [
        "#filtered_loans['revol_util'] = filtered_loans['revol_util'].str.rstrip('%').astype('float')\n",
        "cols = ['home_ownership', 'grade','verification_status', 'emp_length', 'term', 'addr_state','last_credit_pull_d']\n",
        "for name in cols:\n",
        "    print(name,':')\n",
        "    print(object_columns_df[name].value_counts(),'\\n')"
      ],
      "execution_count": 41,
      "outputs": [
        {
          "output_type": "stream",
          "text": [
            "home_ownership :\n",
            "RENT        18271\n",
            "MORTGAGE    16945\n",
            "OWN          2808\n",
            "OTHER          96\n",
            "NONE            3\n",
            "Name: home_ownership, dtype: int64 \n",
            "\n",
            "grade :\n",
            "B    11545\n",
            "A     9675\n",
            "C     7801\n",
            "D     5086\n",
            "E     2715\n",
            "F      993\n",
            "G      308\n",
            "Name: grade, dtype: int64 \n",
            "\n",
            "verification_status :\n",
            "Not Verified       16391\n",
            "Verified           12070\n",
            "Source Verified     9662\n",
            "Name: verification_status, dtype: int64 \n",
            "\n",
            "emp_length :\n",
            "10+ years    8715\n",
            "< 1 year     4542\n",
            "2 years      4344\n",
            "3 years      4050\n",
            "4 years      3385\n",
            "5 years      3243\n",
            "1 year       3207\n",
            "6 years      2198\n",
            "7 years      1738\n",
            "8 years      1457\n",
            "9 years      1244\n",
            "Name: emp_length, dtype: int64 \n",
            "\n",
            "term :\n",
            " 36 months    28234\n",
            " 60 months     9889\n",
            "Name: term, dtype: int64 \n",
            "\n",
            "addr_state :\n",
            "CA    6833\n",
            "NY    3657\n",
            "FL    2741\n",
            "TX    2639\n",
            "NJ    1802\n",
            "IL    1476\n",
            "PA    1460\n",
            "VA    1359\n",
            "GA    1340\n",
            "MA    1292\n",
            "OH    1167\n",
            "MD    1020\n",
            "AZ     819\n",
            "WA     796\n",
            "CO     755\n",
            "NC     747\n",
            "CT     719\n",
            "MI     684\n",
            "MO     653\n",
            "MN     586\n",
            "NV     473\n",
            "SC     461\n",
            "WI     433\n",
            "OR     427\n",
            "AL     424\n",
            "LA     422\n",
            "KY     315\n",
            "OK     289\n",
            "KS     253\n",
            "UT     250\n",
            "AR     232\n",
            "DC     211\n",
            "RI     195\n",
            "NM     182\n",
            "HI     166\n",
            "WV     165\n",
            "NH     159\n",
            "DE     110\n",
            "WY      79\n",
            "MT      78\n",
            "AK      77\n",
            "SD      60\n",
            "VT      53\n",
            "MS      19\n",
            "TN      17\n",
            "IN       9\n",
            "ID       6\n",
            "IA       5\n",
            "NE       5\n",
            "ME       3\n",
            "Name: addr_state, dtype: int64 \n",
            "\n",
            "last_credit_pull_d :\n",
            "Sep-2016    14177\n",
            "Mar-2016      805\n",
            "Aug-2016      695\n",
            "Feb-2013      657\n",
            "Apr-2016      651\n",
            "            ...  \n",
            "May-2008        1\n",
            "Jul-2007        1\n",
            "May-2007        1\n",
            "Jun-2008        1\n",
            "Jul-2008        1\n",
            "Name: last_credit_pull_d, Length: 110, dtype: int64 \n",
            "\n"
          ],
          "name": "stdout"
        }
      ]
    },
    {
      "cell_type": "code",
      "metadata": {
        "id": "3tH2GNmJ3srH",
        "colab_type": "code",
        "colab": {
          "base_uri": "https://localhost:8080/",
          "height": 578
        },
        "outputId": "077831fb-bbed-49b4-b5ac-df72e764067d"
      },
      "source": [
        "for name in ['purpose','title']:\n",
        "    print(\"Unique Values in column: {}\\n\".format(name))\n",
        "    print(filtered_loans[name].value_counts(),'\\n')"
      ],
      "execution_count": 42,
      "outputs": [
        {
          "output_type": "stream",
          "text": [
            "Unique Values in column: purpose\n",
            "\n",
            "debt_consolidation    17965\n",
            "credit_card            4944\n",
            "other                  3764\n",
            "home_improvement       2852\n",
            "major_purchase         2105\n",
            "small_business         1749\n",
            "car                    1483\n",
            "wedding                 927\n",
            "medical                 663\n",
            "moving                  556\n",
            "house                   359\n",
            "vacation                349\n",
            "educational             312\n",
            "renewable_energy         95\n",
            "Name: purpose, dtype: int64 \n",
            "\n",
            "Unique Values in column: title\n",
            "\n",
            "Debt Consolidation                 2102\n",
            "Debt Consolidation Loan            1635\n",
            "Personal Loan                       632\n",
            "Consolidation                       495\n",
            "debt consolidation                  476\n",
            "                                   ... \n",
            "Jakes personal loan                   1\n",
            "Emigrant Refinance                    1\n",
            "Debt/High Intrest Consolidation       1\n",
            "New Consolidation                     1\n",
            "Bathroom update                       1\n",
            "Name: title, Length: 19021, dtype: int64 \n",
            "\n"
          ],
          "name": "stdout"
        }
      ]
    },
    {
      "cell_type": "code",
      "metadata": {
        "id": "MZ5TQOLn3srJ",
        "colab_type": "code",
        "colab": {
          "base_uri": "https://localhost:8080/",
          "height": 324
        },
        "outputId": "50b0abe3-0718-48ea-9c37-41bb978fc3e6"
      },
      "source": [
        "# drop dates & large cardinality varibales\n",
        "drop_cols = ['last_credit_pull_d','addr_state','title','earliest_cr_line']\n",
        "filtered_loans = filtered_loans.drop(drop_cols,axis=1)"
      ],
      "execution_count": 44,
      "outputs": [
        {
          "output_type": "error",
          "ename": "KeyError",
          "evalue": "ignored",
          "traceback": [
            "\u001b[0;31m---------------------------------------------------------------------------\u001b[0m",
            "\u001b[0;31mKeyError\u001b[0m                                  Traceback (most recent call last)",
            "\u001b[0;32m<ipython-input-44-768bc1c985c7>\u001b[0m in \u001b[0;36m<module>\u001b[0;34m()\u001b[0m\n\u001b[1;32m      1\u001b[0m \u001b[0mdrop_cols\u001b[0m \u001b[0;34m=\u001b[0m \u001b[0;34m[\u001b[0m\u001b[0;34m'last_credit_pull_d'\u001b[0m\u001b[0;34m,\u001b[0m\u001b[0;34m'addr_state'\u001b[0m\u001b[0;34m,\u001b[0m\u001b[0;34m'title'\u001b[0m\u001b[0;34m,\u001b[0m\u001b[0;34m'earliest_cr_line'\u001b[0m\u001b[0;34m]\u001b[0m\u001b[0;34m\u001b[0m\u001b[0;34m\u001b[0m\u001b[0m\n\u001b[0;32m----> 2\u001b[0;31m \u001b[0mfiltered_loans\u001b[0m \u001b[0;34m=\u001b[0m \u001b[0mfiltered_loans\u001b[0m\u001b[0;34m.\u001b[0m\u001b[0mdrop\u001b[0m\u001b[0;34m(\u001b[0m\u001b[0mdrop_cols\u001b[0m\u001b[0;34m,\u001b[0m\u001b[0maxis\u001b[0m\u001b[0;34m=\u001b[0m\u001b[0;36m1\u001b[0m\u001b[0;34m)\u001b[0m\u001b[0;34m\u001b[0m\u001b[0;34m\u001b[0m\u001b[0m\n\u001b[0m",
            "\u001b[0;32m/usr/local/lib/python3.6/dist-packages/pandas/core/frame.py\u001b[0m in \u001b[0;36mdrop\u001b[0;34m(self, labels, axis, index, columns, level, inplace, errors)\u001b[0m\n\u001b[1;32m   4115\u001b[0m             \u001b[0mlevel\u001b[0m\u001b[0;34m=\u001b[0m\u001b[0mlevel\u001b[0m\u001b[0;34m,\u001b[0m\u001b[0;34m\u001b[0m\u001b[0;34m\u001b[0m\u001b[0m\n\u001b[1;32m   4116\u001b[0m             \u001b[0minplace\u001b[0m\u001b[0;34m=\u001b[0m\u001b[0minplace\u001b[0m\u001b[0;34m,\u001b[0m\u001b[0;34m\u001b[0m\u001b[0;34m\u001b[0m\u001b[0m\n\u001b[0;32m-> 4117\u001b[0;31m             \u001b[0merrors\u001b[0m\u001b[0;34m=\u001b[0m\u001b[0merrors\u001b[0m\u001b[0;34m,\u001b[0m\u001b[0;34m\u001b[0m\u001b[0;34m\u001b[0m\u001b[0m\n\u001b[0m\u001b[1;32m   4118\u001b[0m         )\n\u001b[1;32m   4119\u001b[0m \u001b[0;34m\u001b[0m\u001b[0m\n",
            "\u001b[0;32m/usr/local/lib/python3.6/dist-packages/pandas/core/generic.py\u001b[0m in \u001b[0;36mdrop\u001b[0;34m(self, labels, axis, index, columns, level, inplace, errors)\u001b[0m\n\u001b[1;32m   3912\u001b[0m         \u001b[0;32mfor\u001b[0m \u001b[0maxis\u001b[0m\u001b[0;34m,\u001b[0m \u001b[0mlabels\u001b[0m \u001b[0;32min\u001b[0m \u001b[0maxes\u001b[0m\u001b[0;34m.\u001b[0m\u001b[0mitems\u001b[0m\u001b[0;34m(\u001b[0m\u001b[0;34m)\u001b[0m\u001b[0;34m:\u001b[0m\u001b[0;34m\u001b[0m\u001b[0;34m\u001b[0m\u001b[0m\n\u001b[1;32m   3913\u001b[0m             \u001b[0;32mif\u001b[0m \u001b[0mlabels\u001b[0m \u001b[0;32mis\u001b[0m \u001b[0;32mnot\u001b[0m \u001b[0;32mNone\u001b[0m\u001b[0;34m:\u001b[0m\u001b[0;34m\u001b[0m\u001b[0;34m\u001b[0m\u001b[0m\n\u001b[0;32m-> 3914\u001b[0;31m                 \u001b[0mobj\u001b[0m \u001b[0;34m=\u001b[0m \u001b[0mobj\u001b[0m\u001b[0;34m.\u001b[0m\u001b[0m_drop_axis\u001b[0m\u001b[0;34m(\u001b[0m\u001b[0mlabels\u001b[0m\u001b[0;34m,\u001b[0m \u001b[0maxis\u001b[0m\u001b[0;34m,\u001b[0m \u001b[0mlevel\u001b[0m\u001b[0;34m=\u001b[0m\u001b[0mlevel\u001b[0m\u001b[0;34m,\u001b[0m \u001b[0merrors\u001b[0m\u001b[0;34m=\u001b[0m\u001b[0merrors\u001b[0m\u001b[0;34m)\u001b[0m\u001b[0;34m\u001b[0m\u001b[0;34m\u001b[0m\u001b[0m\n\u001b[0m\u001b[1;32m   3915\u001b[0m \u001b[0;34m\u001b[0m\u001b[0m\n\u001b[1;32m   3916\u001b[0m         \u001b[0;32mif\u001b[0m \u001b[0minplace\u001b[0m\u001b[0;34m:\u001b[0m\u001b[0;34m\u001b[0m\u001b[0;34m\u001b[0m\u001b[0m\n",
            "\u001b[0;32m/usr/local/lib/python3.6/dist-packages/pandas/core/generic.py\u001b[0m in \u001b[0;36m_drop_axis\u001b[0;34m(self, labels, axis, level, errors)\u001b[0m\n\u001b[1;32m   3944\u001b[0m                 \u001b[0mnew_axis\u001b[0m \u001b[0;34m=\u001b[0m \u001b[0maxis\u001b[0m\u001b[0;34m.\u001b[0m\u001b[0mdrop\u001b[0m\u001b[0;34m(\u001b[0m\u001b[0mlabels\u001b[0m\u001b[0;34m,\u001b[0m \u001b[0mlevel\u001b[0m\u001b[0;34m=\u001b[0m\u001b[0mlevel\u001b[0m\u001b[0;34m,\u001b[0m \u001b[0merrors\u001b[0m\u001b[0;34m=\u001b[0m\u001b[0merrors\u001b[0m\u001b[0;34m)\u001b[0m\u001b[0;34m\u001b[0m\u001b[0;34m\u001b[0m\u001b[0m\n\u001b[1;32m   3945\u001b[0m             \u001b[0;32melse\u001b[0m\u001b[0;34m:\u001b[0m\u001b[0;34m\u001b[0m\u001b[0;34m\u001b[0m\u001b[0m\n\u001b[0;32m-> 3946\u001b[0;31m                 \u001b[0mnew_axis\u001b[0m \u001b[0;34m=\u001b[0m \u001b[0maxis\u001b[0m\u001b[0;34m.\u001b[0m\u001b[0mdrop\u001b[0m\u001b[0;34m(\u001b[0m\u001b[0mlabels\u001b[0m\u001b[0;34m,\u001b[0m \u001b[0merrors\u001b[0m\u001b[0;34m=\u001b[0m\u001b[0merrors\u001b[0m\u001b[0;34m)\u001b[0m\u001b[0;34m\u001b[0m\u001b[0;34m\u001b[0m\u001b[0m\n\u001b[0m\u001b[1;32m   3947\u001b[0m             \u001b[0mresult\u001b[0m \u001b[0;34m=\u001b[0m \u001b[0mself\u001b[0m\u001b[0;34m.\u001b[0m\u001b[0mreindex\u001b[0m\u001b[0;34m(\u001b[0m\u001b[0;34m**\u001b[0m\u001b[0;34m{\u001b[0m\u001b[0maxis_name\u001b[0m\u001b[0;34m:\u001b[0m \u001b[0mnew_axis\u001b[0m\u001b[0;34m}\u001b[0m\u001b[0;34m)\u001b[0m\u001b[0;34m\u001b[0m\u001b[0;34m\u001b[0m\u001b[0m\n\u001b[1;32m   3948\u001b[0m \u001b[0;34m\u001b[0m\u001b[0m\n",
            "\u001b[0;32m/usr/local/lib/python3.6/dist-packages/pandas/core/indexes/base.py\u001b[0m in \u001b[0;36mdrop\u001b[0;34m(self, labels, errors)\u001b[0m\n\u001b[1;32m   5338\u001b[0m         \u001b[0;32mif\u001b[0m \u001b[0mmask\u001b[0m\u001b[0;34m.\u001b[0m\u001b[0many\u001b[0m\u001b[0;34m(\u001b[0m\u001b[0;34m)\u001b[0m\u001b[0;34m:\u001b[0m\u001b[0;34m\u001b[0m\u001b[0;34m\u001b[0m\u001b[0m\n\u001b[1;32m   5339\u001b[0m             \u001b[0;32mif\u001b[0m \u001b[0merrors\u001b[0m \u001b[0;34m!=\u001b[0m \u001b[0;34m\"ignore\"\u001b[0m\u001b[0;34m:\u001b[0m\u001b[0;34m\u001b[0m\u001b[0;34m\u001b[0m\u001b[0m\n\u001b[0;32m-> 5340\u001b[0;31m                 \u001b[0;32mraise\u001b[0m \u001b[0mKeyError\u001b[0m\u001b[0;34m(\u001b[0m\u001b[0;34m\"{} not found in axis\"\u001b[0m\u001b[0;34m.\u001b[0m\u001b[0mformat\u001b[0m\u001b[0;34m(\u001b[0m\u001b[0mlabels\u001b[0m\u001b[0;34m[\u001b[0m\u001b[0mmask\u001b[0m\u001b[0;34m]\u001b[0m\u001b[0;34m)\u001b[0m\u001b[0;34m)\u001b[0m\u001b[0;34m\u001b[0m\u001b[0;34m\u001b[0m\u001b[0m\n\u001b[0m\u001b[1;32m   5341\u001b[0m             \u001b[0mindexer\u001b[0m \u001b[0;34m=\u001b[0m \u001b[0mindexer\u001b[0m\u001b[0;34m[\u001b[0m\u001b[0;34m~\u001b[0m\u001b[0mmask\u001b[0m\u001b[0;34m]\u001b[0m\u001b[0;34m\u001b[0m\u001b[0;34m\u001b[0m\u001b[0m\n\u001b[1;32m   5342\u001b[0m         \u001b[0;32mreturn\u001b[0m \u001b[0mself\u001b[0m\u001b[0;34m.\u001b[0m\u001b[0mdelete\u001b[0m\u001b[0;34m(\u001b[0m\u001b[0mindexer\u001b[0m\u001b[0;34m)\u001b[0m\u001b[0;34m\u001b[0m\u001b[0;34m\u001b[0m\u001b[0m\n",
            "\u001b[0;31mKeyError\u001b[0m: \"['last_credit_pull_d' 'addr_state' 'title' 'earliest_cr_line'] not found in axis\""
          ]
        }
      ]
    },
    {
      "cell_type": "markdown",
      "metadata": {
        "id": "JpvvLC5w3srL",
        "colab_type": "text"
      },
      "source": [
        "# Convert Categorical Columns to Numeric Features\n",
        "First, let's understand the two types of categorical features we have in our dataset and how we can convert each to numerical features:\n",
        "\n",
        "Ordinal values: these categorical values are in natural order. That's you can sort or order them either in increasing or decreasing order. For instance, we learnt earlier that Lending Club grade loan applicants from A to G, and assign each applicant a corresponding interest rate - grade A is less riskier while grade B is riskier than A in that order:\n",
        "A < B < C < D < E < F < G ; where < means less riskier than\n",
        "Nominal Values: these are regular categorical values. You can't order nominal values. For instance, while we can order loan applicants in the employment length column (emp_length) based on years spent in the workforce:\n",
        "year 1 < year 2 < year 3 ... < year N,\n",
        "we can't do that with the column purpose. It wouldn't make sense to say:\n",
        "\n",
        "car < wedding < education < moving < house\n",
        "These are the columns we now have in our dataset:\n",
        "\n",
        "Ordinal Values\n",
        "grade\n",
        "emp_length\n",
        "Nominal Values\n",
        "_ home_ownership\n",
        "verification_status\n",
        "purpose\n",
        "term\n",
        "There are different approaches to handle each of these two types. In the steps following, we'll convert each of them accordingly.\n",
        "\n",
        "To map the ordinal values to integers, we can use the pandas DataFrame method replace() to map both grade and emp_length to appropriate numeric values"
      ]
    },
    {
      "cell_type": "code",
      "metadata": {
        "id": "Mt8ePtnG3srL",
        "colab_type": "code",
        "colab": {
          "base_uri": "https://localhost:8080/",
          "height": 204
        },
        "outputId": "01c789ae-e144-40c5-d5ba-881ed2792095"
      },
      "source": [
        "mapping_dict = {\n",
        "    \"emp_length\": {\n",
        "        \"10+ years\": 10,\n",
        "        \"9 years\": 9,\n",
        "        \"8 years\": 8,\n",
        "        \"7 years\": 7,\n",
        "        \"6 years\": 6,\n",
        "        \"5 years\": 5,\n",
        "        \"4 years\": 4,\n",
        "        \"3 years\": 3,\n",
        "        \"2 years\": 2,\n",
        "        \"1 year\": 1,\n",
        "        \"< 1 year\": 0,\n",
        "        \"n/a\": 0\n",
        "\n",
        "    },\n",
        "    \"grade\":{\n",
        "        \"A\": 1,\n",
        "        \"B\": 2,\n",
        "        \"C\": 3,\n",
        "        \"D\": 4,\n",
        "        \"E\": 5,\n",
        "        \"F\": 6,\n",
        "        \"G\": 7\n",
        "    }\n",
        "}\n",
        "\n",
        "filtered_loans = filtered_loans.replace(mapping_dict)\n",
        "filtered_loans[['emp_length','grade']].head()"
      ],
      "execution_count": 45,
      "outputs": [
        {
          "output_type": "execute_result",
          "data": {
            "text/html": [
              "<div>\n",
              "<style scoped>\n",
              "    .dataframe tbody tr th:only-of-type {\n",
              "        vertical-align: middle;\n",
              "    }\n",
              "\n",
              "    .dataframe tbody tr th {\n",
              "        vertical-align: top;\n",
              "    }\n",
              "\n",
              "    .dataframe thead th {\n",
              "        text-align: right;\n",
              "    }\n",
              "</style>\n",
              "<table border=\"1\" class=\"dataframe\">\n",
              "  <thead>\n",
              "    <tr style=\"text-align: right;\">\n",
              "      <th></th>\n",
              "      <th>emp_length</th>\n",
              "      <th>grade</th>\n",
              "    </tr>\n",
              "  </thead>\n",
              "  <tbody>\n",
              "    <tr>\n",
              "      <th>0</th>\n",
              "      <td>10</td>\n",
              "      <td>2</td>\n",
              "    </tr>\n",
              "    <tr>\n",
              "      <th>1</th>\n",
              "      <td>0</td>\n",
              "      <td>3</td>\n",
              "    </tr>\n",
              "    <tr>\n",
              "      <th>2</th>\n",
              "      <td>10</td>\n",
              "      <td>3</td>\n",
              "    </tr>\n",
              "    <tr>\n",
              "      <th>3</th>\n",
              "      <td>10</td>\n",
              "      <td>3</td>\n",
              "    </tr>\n",
              "    <tr>\n",
              "      <th>4</th>\n",
              "      <td>3</td>\n",
              "      <td>1</td>\n",
              "    </tr>\n",
              "  </tbody>\n",
              "</table>\n",
              "</div>"
            ],
            "text/plain": [
              "  emp_length  grade\n",
              "0         10      2\n",
              "1          0      3\n",
              "2         10      3\n",
              "3         10      3\n",
              "4          3      1"
            ]
          },
          "metadata": {
            "tags": []
          },
          "execution_count": 45
        }
      ]
    },
    {
      "cell_type": "markdown",
      "metadata": {
        "id": "LcaVaQQX3srN",
        "colab_type": "text"
      },
      "source": [
        "Perfect! Let's move on to the Nominal Values. The approach to converting nominal features into numerical features is to encode them as dummy variables. The process will be:\n",
        "\n",
        "Use pandas' get_dummies() method to return a new DataFrame containing a new column for each dummy variable\n",
        "Use the concat() method to add these dummy columns back to the original DataFrame\n",
        "Then drop the original columns entirely using the drop method\n",
        "Lets' go ahead and encode the nominal columns that we now have in our dataset."
      ]
    },
    {
      "cell_type": "code",
      "metadata": {
        "id": "K-pz8ODH3srO",
        "colab_type": "code",
        "colab": {
          "base_uri": "https://localhost:8080/",
          "height": 34
        },
        "outputId": "8f3c8390-ac4a-4971-f502-82c69f42d247"
      },
      "source": [
        "nominal_columns = [\"home_ownership\", \"verification_status\", \"purpose\", \"term\"]\n",
        "dummy_df = pd.get_dummies(filtered_loans[nominal_columns], drop_first=False) \n",
        "filtered_loans = pd.concat([filtered_loans, dummy_df], axis=1)\n",
        "filtered_loans = filtered_loans.drop(nominal_columns, axis=1)\n",
        "print(filtered_loans.shape)\n",
        "#(38123, 39)\n",
        "#(38123, 35) << get_dummies, drop_first=True"
      ],
      "execution_count": 46,
      "outputs": [
        {
          "output_type": "stream",
          "text": [
            "(38123, 39)\n"
          ],
          "name": "stdout"
        }
      ]
    },
    {
      "cell_type": "code",
      "metadata": {
        "id": "5EBh-23z3srQ",
        "colab_type": "code",
        "colab": {
          "base_uri": "https://localhost:8080/",
          "height": 258
        },
        "outputId": "8afffbbe-b96c-418f-a25d-6a82a1333853"
      },
      "source": [
        "filtered_loans.head()"
      ],
      "execution_count": 47,
      "outputs": [
        {
          "output_type": "execute_result",
          "data": {
            "text/html": [
              "<div>\n",
              "<style scoped>\n",
              "    .dataframe tbody tr th:only-of-type {\n",
              "        vertical-align: middle;\n",
              "    }\n",
              "\n",
              "    .dataframe tbody tr th {\n",
              "        vertical-align: top;\n",
              "    }\n",
              "\n",
              "    .dataframe thead th {\n",
              "        text-align: right;\n",
              "    }\n",
              "</style>\n",
              "<table border=\"1\" class=\"dataframe\">\n",
              "  <thead>\n",
              "    <tr style=\"text-align: right;\">\n",
              "      <th></th>\n",
              "      <th>loan_amnt</th>\n",
              "      <th>installment</th>\n",
              "      <th>grade</th>\n",
              "      <th>emp_length</th>\n",
              "      <th>annual_inc</th>\n",
              "      <th>loan_status</th>\n",
              "      <th>dti</th>\n",
              "      <th>delinq_2yrs</th>\n",
              "      <th>inq_last_6mths</th>\n",
              "      <th>open_acc</th>\n",
              "      <th>pub_rec</th>\n",
              "      <th>revol_bal</th>\n",
              "      <th>revol_util</th>\n",
              "      <th>total_acc</th>\n",
              "      <th>fico_average</th>\n",
              "      <th>home_ownership_MORTGAGE</th>\n",
              "      <th>home_ownership_NONE</th>\n",
              "      <th>home_ownership_OTHER</th>\n",
              "      <th>home_ownership_OWN</th>\n",
              "      <th>home_ownership_RENT</th>\n",
              "      <th>verification_status_Not Verified</th>\n",
              "      <th>verification_status_Source Verified</th>\n",
              "      <th>verification_status_Verified</th>\n",
              "      <th>purpose_car</th>\n",
              "      <th>purpose_credit_card</th>\n",
              "      <th>purpose_debt_consolidation</th>\n",
              "      <th>purpose_educational</th>\n",
              "      <th>purpose_home_improvement</th>\n",
              "      <th>purpose_house</th>\n",
              "      <th>purpose_major_purchase</th>\n",
              "      <th>purpose_medical</th>\n",
              "      <th>purpose_moving</th>\n",
              "      <th>purpose_other</th>\n",
              "      <th>purpose_renewable_energy</th>\n",
              "      <th>purpose_small_business</th>\n",
              "      <th>purpose_vacation</th>\n",
              "      <th>purpose_wedding</th>\n",
              "      <th>term_ 36 months</th>\n",
              "      <th>term_ 60 months</th>\n",
              "    </tr>\n",
              "  </thead>\n",
              "  <tbody>\n",
              "    <tr>\n",
              "      <th>0</th>\n",
              "      <td>5000.0</td>\n",
              "      <td>162.87</td>\n",
              "      <td>2</td>\n",
              "      <td>10</td>\n",
              "      <td>24000.0</td>\n",
              "      <td>1</td>\n",
              "      <td>27.65</td>\n",
              "      <td>0.0</td>\n",
              "      <td>1.0</td>\n",
              "      <td>3.0</td>\n",
              "      <td>0.0</td>\n",
              "      <td>13648.0</td>\n",
              "      <td>0.837</td>\n",
              "      <td>9.0</td>\n",
              "      <td>737.0</td>\n",
              "      <td>0</td>\n",
              "      <td>0</td>\n",
              "      <td>0</td>\n",
              "      <td>0</td>\n",
              "      <td>1</td>\n",
              "      <td>0</td>\n",
              "      <td>0</td>\n",
              "      <td>1</td>\n",
              "      <td>0</td>\n",
              "      <td>1</td>\n",
              "      <td>0</td>\n",
              "      <td>0</td>\n",
              "      <td>0</td>\n",
              "      <td>0</td>\n",
              "      <td>0</td>\n",
              "      <td>0</td>\n",
              "      <td>0</td>\n",
              "      <td>0</td>\n",
              "      <td>0</td>\n",
              "      <td>0</td>\n",
              "      <td>0</td>\n",
              "      <td>0</td>\n",
              "      <td>1</td>\n",
              "      <td>0</td>\n",
              "    </tr>\n",
              "    <tr>\n",
              "      <th>1</th>\n",
              "      <td>2500.0</td>\n",
              "      <td>59.83</td>\n",
              "      <td>3</td>\n",
              "      <td>0</td>\n",
              "      <td>30000.0</td>\n",
              "      <td>0</td>\n",
              "      <td>1.00</td>\n",
              "      <td>0.0</td>\n",
              "      <td>5.0</td>\n",
              "      <td>3.0</td>\n",
              "      <td>0.0</td>\n",
              "      <td>1687.0</td>\n",
              "      <td>0.094</td>\n",
              "      <td>4.0</td>\n",
              "      <td>742.0</td>\n",
              "      <td>0</td>\n",
              "      <td>0</td>\n",
              "      <td>0</td>\n",
              "      <td>0</td>\n",
              "      <td>1</td>\n",
              "      <td>0</td>\n",
              "      <td>1</td>\n",
              "      <td>0</td>\n",
              "      <td>1</td>\n",
              "      <td>0</td>\n",
              "      <td>0</td>\n",
              "      <td>0</td>\n",
              "      <td>0</td>\n",
              "      <td>0</td>\n",
              "      <td>0</td>\n",
              "      <td>0</td>\n",
              "      <td>0</td>\n",
              "      <td>0</td>\n",
              "      <td>0</td>\n",
              "      <td>0</td>\n",
              "      <td>0</td>\n",
              "      <td>0</td>\n",
              "      <td>0</td>\n",
              "      <td>1</td>\n",
              "    </tr>\n",
              "    <tr>\n",
              "      <th>2</th>\n",
              "      <td>2400.0</td>\n",
              "      <td>84.33</td>\n",
              "      <td>3</td>\n",
              "      <td>10</td>\n",
              "      <td>12252.0</td>\n",
              "      <td>1</td>\n",
              "      <td>8.72</td>\n",
              "      <td>0.0</td>\n",
              "      <td>2.0</td>\n",
              "      <td>2.0</td>\n",
              "      <td>0.0</td>\n",
              "      <td>2956.0</td>\n",
              "      <td>0.985</td>\n",
              "      <td>10.0</td>\n",
              "      <td>737.0</td>\n",
              "      <td>0</td>\n",
              "      <td>0</td>\n",
              "      <td>0</td>\n",
              "      <td>0</td>\n",
              "      <td>1</td>\n",
              "      <td>1</td>\n",
              "      <td>0</td>\n",
              "      <td>0</td>\n",
              "      <td>0</td>\n",
              "      <td>0</td>\n",
              "      <td>0</td>\n",
              "      <td>0</td>\n",
              "      <td>0</td>\n",
              "      <td>0</td>\n",
              "      <td>0</td>\n",
              "      <td>0</td>\n",
              "      <td>0</td>\n",
              "      <td>0</td>\n",
              "      <td>0</td>\n",
              "      <td>1</td>\n",
              "      <td>0</td>\n",
              "      <td>0</td>\n",
              "      <td>1</td>\n",
              "      <td>0</td>\n",
              "    </tr>\n",
              "    <tr>\n",
              "      <th>3</th>\n",
              "      <td>10000.0</td>\n",
              "      <td>339.31</td>\n",
              "      <td>3</td>\n",
              "      <td>10</td>\n",
              "      <td>49200.0</td>\n",
              "      <td>1</td>\n",
              "      <td>20.00</td>\n",
              "      <td>0.0</td>\n",
              "      <td>1.0</td>\n",
              "      <td>10.0</td>\n",
              "      <td>0.0</td>\n",
              "      <td>5598.0</td>\n",
              "      <td>0.210</td>\n",
              "      <td>37.0</td>\n",
              "      <td>692.0</td>\n",
              "      <td>0</td>\n",
              "      <td>0</td>\n",
              "      <td>0</td>\n",
              "      <td>0</td>\n",
              "      <td>1</td>\n",
              "      <td>0</td>\n",
              "      <td>1</td>\n",
              "      <td>0</td>\n",
              "      <td>0</td>\n",
              "      <td>0</td>\n",
              "      <td>0</td>\n",
              "      <td>0</td>\n",
              "      <td>0</td>\n",
              "      <td>0</td>\n",
              "      <td>0</td>\n",
              "      <td>0</td>\n",
              "      <td>0</td>\n",
              "      <td>1</td>\n",
              "      <td>0</td>\n",
              "      <td>0</td>\n",
              "      <td>0</td>\n",
              "      <td>0</td>\n",
              "      <td>1</td>\n",
              "      <td>0</td>\n",
              "    </tr>\n",
              "    <tr>\n",
              "      <th>4</th>\n",
              "      <td>5000.0</td>\n",
              "      <td>156.46</td>\n",
              "      <td>1</td>\n",
              "      <td>3</td>\n",
              "      <td>36000.0</td>\n",
              "      <td>1</td>\n",
              "      <td>11.20</td>\n",
              "      <td>0.0</td>\n",
              "      <td>3.0</td>\n",
              "      <td>9.0</td>\n",
              "      <td>0.0</td>\n",
              "      <td>7963.0</td>\n",
              "      <td>0.283</td>\n",
              "      <td>12.0</td>\n",
              "      <td>732.0</td>\n",
              "      <td>0</td>\n",
              "      <td>0</td>\n",
              "      <td>0</td>\n",
              "      <td>0</td>\n",
              "      <td>1</td>\n",
              "      <td>0</td>\n",
              "      <td>1</td>\n",
              "      <td>0</td>\n",
              "      <td>0</td>\n",
              "      <td>0</td>\n",
              "      <td>0</td>\n",
              "      <td>0</td>\n",
              "      <td>0</td>\n",
              "      <td>0</td>\n",
              "      <td>0</td>\n",
              "      <td>0</td>\n",
              "      <td>0</td>\n",
              "      <td>0</td>\n",
              "      <td>0</td>\n",
              "      <td>0</td>\n",
              "      <td>0</td>\n",
              "      <td>1</td>\n",
              "      <td>1</td>\n",
              "      <td>0</td>\n",
              "    </tr>\n",
              "  </tbody>\n",
              "</table>\n",
              "</div>"
            ],
            "text/plain": [
              "   loan_amnt  installment  ...  term_ 36 months term_ 60 months\n",
              "0     5000.0       162.87  ...                1               0\n",
              "1     2500.0        59.83  ...                0               1\n",
              "2     2400.0        84.33  ...                1               0\n",
              "3    10000.0       339.31  ...                1               0\n",
              "4     5000.0       156.46  ...                1               0\n",
              "\n",
              "[5 rows x 39 columns]"
            ]
          },
          "metadata": {
            "tags": []
          },
          "execution_count": 47
        }
      ]
    },
    {
      "cell_type": "markdown",
      "metadata": {
        "id": "6eJbeF_a3srS",
        "colab_type": "text"
      },
      "source": [
        "To wrap things up, let's inspect our final output from this section to make sure all the features are of the same length, contain no null value, and are numericals.\n",
        "\n",
        "Let's use pandas info method to inspect the filtered_loans DataFrame:"
      ]
    },
    {
      "cell_type": "code",
      "metadata": {
        "id": "eEOoTX5p3srS",
        "colab_type": "code",
        "colab": {
          "base_uri": "https://localhost:8080/",
          "height": 765
        },
        "outputId": "7d81fea4-ee1c-45c5-f126-46d11fc97c6a"
      },
      "source": [
        "filtered_loans.info()"
      ],
      "execution_count": 48,
      "outputs": [
        {
          "output_type": "stream",
          "text": [
            "<class 'pandas.core.frame.DataFrame'>\n",
            "Int64Index: 38123 entries, 0 to 39238\n",
            "Data columns (total 39 columns):\n",
            "loan_amnt                              38123 non-null float64\n",
            "installment                            38123 non-null float64\n",
            "grade                                  38123 non-null int64\n",
            "emp_length                             38123 non-null object\n",
            "annual_inc                             38123 non-null float64\n",
            "loan_status                            38123 non-null int64\n",
            "dti                                    38123 non-null float64\n",
            "delinq_2yrs                            38123 non-null float64\n",
            "inq_last_6mths                         38123 non-null float64\n",
            "open_acc                               38123 non-null float64\n",
            "pub_rec                                38123 non-null float64\n",
            "revol_bal                              38123 non-null float64\n",
            "revol_util                             38123 non-null float64\n",
            "total_acc                              38123 non-null float64\n",
            "fico_average                           38123 non-null float64\n",
            "home_ownership_MORTGAGE                38123 non-null uint8\n",
            "home_ownership_NONE                    38123 non-null uint8\n",
            "home_ownership_OTHER                   38123 non-null uint8\n",
            "home_ownership_OWN                     38123 non-null uint8\n",
            "home_ownership_RENT                    38123 non-null uint8\n",
            "verification_status_Not Verified       38123 non-null uint8\n",
            "verification_status_Source Verified    38123 non-null uint8\n",
            "verification_status_Verified           38123 non-null uint8\n",
            "purpose_car                            38123 non-null uint8\n",
            "purpose_credit_card                    38123 non-null uint8\n",
            "purpose_debt_consolidation             38123 non-null uint8\n",
            "purpose_educational                    38123 non-null uint8\n",
            "purpose_home_improvement               38123 non-null uint8\n",
            "purpose_house                          38123 non-null uint8\n",
            "purpose_major_purchase                 38123 non-null uint8\n",
            "purpose_medical                        38123 non-null uint8\n",
            "purpose_moving                         38123 non-null uint8\n",
            "purpose_other                          38123 non-null uint8\n",
            "purpose_renewable_energy               38123 non-null uint8\n",
            "purpose_small_business                 38123 non-null uint8\n",
            "purpose_vacation                       38123 non-null uint8\n",
            "purpose_wedding                        38123 non-null uint8\n",
            "term_ 36 months                        38123 non-null uint8\n",
            "term_ 60 months                        38123 non-null uint8\n",
            "dtypes: float64(12), int64(2), object(1), uint8(24)\n",
            "memory usage: 5.5+ MB\n"
          ],
          "name": "stdout"
        }
      ]
    },
    {
      "cell_type": "markdown",
      "metadata": {
        "id": "ILYngCIv3srU",
        "colab_type": "text"
      },
      "source": [
        "# Save to CSV\n",
        "It is a good practice to store the final output of each section or stage of your workflow in a separate csv file. One of the benefits of this practice is that it helps us to make changes in our data processing flow without having to recalculate everything."
      ]
    },
    {
      "cell_type": "code",
      "metadata": {
        "id": "6c4svmQ_3srU",
        "colab_type": "code",
        "colab": {}
      },
      "source": [
        "filtered_loans.to_csv(\"cleaned_loans_2007.csv\",index=False)"
      ],
      "execution_count": 0,
      "outputs": []
    }
  ]
}